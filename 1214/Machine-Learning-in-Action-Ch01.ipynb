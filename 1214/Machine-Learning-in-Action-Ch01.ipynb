{
 "cells": [
  {
   "cell_type": "markdown",
   "metadata": {},
   "source": [
    "https://www.manning.com/books/machine-learning-in-action\n",
    ": data, source 있음."
   ]
  },
  {
   "cell_type": "markdown",
   "metadata": {},
   "source": [
    "센서를 통해서 입력된 값들을 속성(feature) 또는 특성(attribute)라고 하며, 이 책에서는 속성이라는 용어를 사용할 것임.\n",
    "\n",
    "훈련 집합(training set)은 속성과 목적변수로 구성되어 있으며\n",
    "검사 집합(test set)은 훈련된 모델에 넣을때는 속성만 사용하고 목적 변수(target variable)로 성능을 판담함."
   ]
  },
  {
   "cell_type": "markdown",
   "metadata": {
    "collapsed": true
   },
   "source": [
    "** 알고리즘 선정 방법\n",
    "\n",
    "1. 목적을 고려\n",
    "  목적값(target value)을 예측한다면 지도학습 (<=> 비지도 학습)\n",
    "   목적값이 명목형 값이라면 분류(classifier)를 사용 (<=> 회귀)\n",
    "  목적값(target value)을 예측하는 것이 아니라면 비지도 학습\n",
    "   이산적인 무리에 말맞은지를 알아보려면 군집화\n",
    "   무리에 알맞는 정도가 어느 정도인지를 형가한다면 밀도추정\n",
    "\n",
    "2. 보유하고 있는 데이터를 고려\n",
    "   속성: 명옥형, 연속형, 누락된 값 유무, 데이터 내 오류 원인분석, ...\n",
    "   다양한 알고리즘을 시도해야 할 것이며 그것이 어떻게 수행되는 지 알아야 한다.\n"
   ]
  },
  {
   "cell_type": "markdown",
   "metadata": {},
   "source": [
    "** 기계학습 응용 프로그램 개발 단계\n",
    "\n",
    "1. 데이터 수집\n",
    "2. 입력 데이터 분비\n",
    "3. 입력 데이터 분석\n",
    "4. 알고리즘 훈련\n",
    "5. 알고리즘 테스트\n",
    "6. 사용하기"
   ]
  },
  {
   "cell_type": "markdown",
   "metadata": {},
   "source": [
    "** 왜 파이썬?\n",
    "\n",
    "문법이 깔끔함\n",
    "텍스트 조작 쉬움\n",
    "파이썬 다용 단체가 다수 있음\n",
    "\n",
    "단점으론 느리다.\n",
    "이를 보완하기 위해 연산집중도가 높은 부분은 c로 만든다.\n",
    "\n",
    "이외에 일반 파이썬보다 더 좋은 성능을 위해 파이썬 형태로 작성 할 수 있는 싸이썬(Cython)과 파이파이(PyPy) 같은 도구들이 있다."
   ]
  },
  {
   "cell_type": "code",
   "execution_count": 4,
   "metadata": {
    "collapsed": true
   },
   "outputs": [],
   "source": [
    "from numpy import *"
   ]
  },
  {
   "cell_type": "code",
   "execution_count": 5,
   "metadata": {
    "collapsed": false
   },
   "outputs": [
    {
     "data": {
      "text/plain": [
       "array([[ 0.91364983,  0.72084166,  0.84579512,  0.93420372],\n",
       "       [ 0.4746844 ,  0.88044953,  0.88248266,  0.33806668],\n",
       "       [ 0.84549266,  0.89999949,  0.83872996,  0.42139804],\n",
       "       [ 0.9851834 ,  0.11833768,  0.35929702,  0.84230725]])"
      ]
     },
     "execution_count": 5,
     "metadata": {},
     "output_type": "execute_result"
    }
   ],
   "source": [
    "random.rand(4,4)"
   ]
  },
  {
   "cell_type": "code",
   "execution_count": 8,
   "metadata": {
    "collapsed": false
   },
   "outputs": [
    {
     "data": {
      "text/plain": [
       "matrix([[ -9.18720343,  10.09490938,  -3.45287503,   0.62601757],\n",
       "        [ 69.19616308, -73.33954925,  35.89223262,  -8.57539837],\n",
       "        [-22.91669944,  23.18348572, -11.50891684,   4.3963557 ],\n",
       "        [  4.29336292,  -2.37362831,   0.96566319,  -1.10607062]])"
      ]
     },
     "execution_count": 8,
     "metadata": {},
     "output_type": "execute_result"
    }
   ],
   "source": [
    "randMat = mat(random.rand(4,4))\n",
    "randMat.I # inverse matrix\n",
    "#http://docs.scipy.org/doc/numpy/reference/generated/numpy.mat.html"
   ]
  },
  {
   "cell_type": "code",
   "execution_count": 9,
   "metadata": {
    "collapsed": false
   },
   "outputs": [
    {
     "data": {
      "text/plain": [
       "array([[ 1.,  0.,  0.,  0.],\n",
       "       [ 0.,  1.,  0.,  0.],\n",
       "       [ 0.,  0.,  1.,  0.],\n",
       "       [ 0.,  0.,  0.,  1.]])"
      ]
     },
     "execution_count": 9,
     "metadata": {},
     "output_type": "execute_result"
    }
   ],
   "source": [
    "eye(4)"
   ]
  },
  {
   "cell_type": "code",
   "execution_count": null,
   "metadata": {
    "collapsed": true
   },
   "outputs": [],
   "source": []
  }
 ],
 "metadata": {
  "kernelspec": {
   "display_name": "Python 3",
   "language": "python",
   "name": "python3"
  },
  "language_info": {
   "codemirror_mode": {
    "name": "ipython",
    "version": 3
   },
   "file_extension": ".py",
   "mimetype": "text/x-python",
   "name": "python",
   "nbconvert_exporter": "python",
   "pygments_lexer": "ipython3",
   "version": "3.4.3"
  }
 },
 "nbformat": 4,
 "nbformat_minor": 0
}
