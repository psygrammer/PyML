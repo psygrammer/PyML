{
 "cells": [
  {
   "cell_type": "markdown",
   "metadata": {},
   "source": [
    "** kNN의 일반적인 접근 방법\n",
    "\n",
    "1. 수집: 모든 방법\n",
    "2. 준비: 수치형 값(거리를 계산하기 위해 필요), 구조적으로 표현된 데이터 형식이 가장 좋다.\n",
    "3. 분석: 모든 방법\n",
    "4. 훈련: kNN 알고리즘은 적용되지 않음.\n",
    "5. 검사: 오류율(error rate)을 계산함\n",
    "6. 사용: 응용 프로그램은 입력 데이터를 받아 구조가 있는 수치형 값으로 출력하는데 필요하다.\n",
    "       그런 다음, 응용프로그램은 입력 데이터를 가지고 kNN 알고리즘을 실행해서 입력 데이터가 속하는 분류 항목을 결정한다.\n",
    "       응용 프로그램은 이때 계산된 분류 항목에서 몇 가지 조치를 취한다."
   ]
  },
  {
   "cell_type": "code",
   "execution_count": 1,
   "metadata": {
    "collapsed": true
   },
   "outputs": [],
   "source": [
    "from numpy import *\n",
    "import operator\n",
    "\n",
    "def createDataSet():\n",
    "    group = array([[1.0, 1.1], [1.0, 1.0], [0, 0], [0, 0.1]])\n",
    "    labels = ['A', 'A', 'B', 'B']\n",
    "    return group, labels"
   ]
  },
  {
   "cell_type": "code",
   "execution_count": 2,
   "metadata": {
    "collapsed": false
   },
   "outputs": [],
   "source": [
    "group, labels = createDataSet()"
   ]
  },
  {
   "cell_type": "code",
   "execution_count": 3,
   "metadata": {
    "collapsed": false
   },
   "outputs": [
    {
     "data": {
      "text/plain": [
       "array([[ 1. ,  1.1],\n",
       "       [ 1. ,  1. ],\n",
       "       [ 0. ,  0. ],\n",
       "       [ 0. ,  0.1]])"
      ]
     },
     "execution_count": 3,
     "metadata": {},
     "output_type": "execute_result"
    }
   ],
   "source": [
    "group"
   ]
  },
  {
   "cell_type": "code",
   "execution_count": 4,
   "metadata": {
    "collapsed": false
   },
   "outputs": [
    {
     "data": {
      "text/plain": [
       "['A', 'A', 'B', 'B']"
      ]
     },
     "execution_count": 4,
     "metadata": {},
     "output_type": "execute_result"
    }
   ],
   "source": [
    "labels"
   ]
  },
  {
   "cell_type": "markdown",
   "metadata": {},
   "source": [
    "For every in our dataset:\n",
    "    calculate the distance between inX and the current point\n",
    "    sort the distances in increasing order\n",
    "    take k items with lowest distances to inX\n",
    "    find the majority class among these items\n",
    "    return the majority class as our prediction for the class of inX"
   ]
  },
  {
   "cell_type": "code",
   "execution_count": 30,
   "metadata": {
    "collapsed": true
   },
   "outputs": [],
   "source": [
    "def classify0(inX, dataSet, labels, k):\n",
    "    dataSetSize = dataSet.shape[0]\n",
    "    diffMat = tile(inX, (dataSetSize, 1)) - dataSet\n",
    "    sqDiffMat = diffMat ** 2\n",
    "    sqDistances = sqDiffMat.sum(axis = 1)\n",
    "    distances = sqDistances ** 0.5\n",
    "    sortedDistIndicies = distances.argsort()\n",
    "    classCount={}\n",
    "    for i in range(k):\n",
    "        voteIlabel = labels[sortedDistIndicies[i]]\n",
    "        classCount[voteIlabel] = classCount.get(voteIlabel, 0) + 1\n",
    "    sortedClassCount = sorted(classCount.items(), key=operator.itemgetter(1), reverse=True)\n",
    "    return sortedClassCount[0][0]"
   ]
  },
  {
   "cell_type": "code",
   "execution_count": 9,
   "metadata": {
    "collapsed": false
   },
   "outputs": [
    {
     "data": {
      "text/plain": [
       "(4, 2)"
      ]
     },
     "execution_count": 9,
     "metadata": {},
     "output_type": "execute_result"
    }
   ],
   "source": [
    "group.shape"
   ]
  },
  {
   "cell_type": "code",
   "execution_count": 11,
   "metadata": {
    "collapsed": false
   },
   "outputs": [
    {
     "data": {
      "text/plain": [
       "array([[-1. , -1.1],\n",
       "       [-1. , -1. ],\n",
       "       [ 0. ,  0. ],\n",
       "       [ 0. , -0.1]])"
      ]
     },
     "execution_count": 11,
     "metadata": {},
     "output_type": "execute_result"
    }
   ],
   "source": [
    "tile([0,0], (4, 1)) - group"
   ]
  },
  {
   "cell_type": "code",
   "execution_count": 12,
   "metadata": {
    "collapsed": false
   },
   "outputs": [
    {
     "data": {
      "text/plain": [
       "array([[ 1.  ,  1.21],\n",
       "       [ 1.  ,  1.  ],\n",
       "       [ 0.  ,  0.  ],\n",
       "       [ 0.  ,  0.01]])"
      ]
     },
     "execution_count": 12,
     "metadata": {},
     "output_type": "execute_result"
    }
   ],
   "source": [
    "diffMat = tile([0,0], (4, 1)) - group\n",
    "diffMat ** 2"
   ]
  },
  {
   "cell_type": "code",
   "execution_count": 13,
   "metadata": {
    "collapsed": false
   },
   "outputs": [
    {
     "data": {
      "text/plain": [
       "array([ 2.21,  2.  ,  0.  ,  0.01])"
      ]
     },
     "execution_count": 13,
     "metadata": {},
     "output_type": "execute_result"
    }
   ],
   "source": [
    "sqDiffMat = diffMat ** 2\n",
    "sqDiffMat.sum(axis = 1)"
   ]
  },
  {
   "cell_type": "code",
   "execution_count": 16,
   "metadata": {
    "collapsed": false
   },
   "outputs": [
    {
     "data": {
      "text/plain": [
       "array([ 1.48660687,  1.41421356,  0.        ,  0.1       ])"
      ]
     },
     "execution_count": 16,
     "metadata": {},
     "output_type": "execute_result"
    }
   ],
   "source": [
    "sqDistances = sqDiffMat.sum(axis = 1)\n",
    "sqDistances ** 0.5"
   ]
  },
  {
   "cell_type": "code",
   "execution_count": 17,
   "metadata": {
    "collapsed": false
   },
   "outputs": [
    {
     "data": {
      "text/plain": [
       "array([2, 3, 1, 0])"
      ]
     },
     "execution_count": 17,
     "metadata": {},
     "output_type": "execute_result"
    }
   ],
   "source": [
    "distances = sqDistances ** 0.5\n",
    "distances.argsort()"
   ]
  },
  {
   "cell_type": "code",
   "execution_count": 25,
   "metadata": {
    "collapsed": false
   },
   "outputs": [
    {
     "data": {
      "text/plain": [
       "'B'"
      ]
     },
     "execution_count": 25,
     "metadata": {},
     "output_type": "execute_result"
    }
   ],
   "source": [
    "classify0([0,0], group, labels, 3)"
   ]
  },
  {
   "cell_type": "markdown",
   "metadata": {},
   "source": [
    "http://stackoverflow.com/questions/30418481/error-dict-object-has-no-attribute-iteritems-when-trying-to-use-networkx\n",
    "'dict' object has no attribute 'iteritems'\n",
    "\n",
    "\n",
    "http://stackoverflow.com/questions/10458437/what-is-the-difference-between-dict-items-and-dict-iteritems\n",
    "Originally, Python items() built a real list of tuples and returned that. That could potentially take a lot of extra memory.\n",
    "\n",
    "Then, generators were introduced to the language in general, and that method was reimplemented as an iterator-generator method named iteritems(). The original remains for backwards compatibility.\n",
    "\n",
    "One of Python 3’s changes is that items() now return iterators, and a list is never fully built. The iteritems() method is also gone, since items() now works like iteritems() in Python 2. "
   ]
  },
  {
   "cell_type": "markdown",
   "metadata": {},
   "source": [
    "오류율: 분류기가 데이터를 잘못 분류한 횟수를 합산하여 제공된 데이터를 검사한 총 횟수로 나눈다."
   ]
  },
  {
   "cell_type": "markdown",
   "metadata": {
    "collapsed": true
   },
   "source": [
    "# 데이트 사이트의 만남주선 개선"
   ]
  },
  {
   "cell_type": "markdown",
   "metadata": {},
   "source": [
    "** 데이트 사이트에서 얻은 결과에 kNN 사용하기\n",
    "\n",
    "1. 수집: 제공된 텍스트 파일\n",
    "2. 준비: 파이썬에서 텍스트 파일 구문 분석하기\n",
    "3. 분석: 데이터를 2D 플롯(plots)으로 만들기 위해 매스플롯라이브러리 사용하기\n",
    "4. 훈련: kNN 알고리즘에는 적용되지 않음\n",
    "5. 검사: 헬렌이 준 검사용 예제 데이터의 일부를 사용하기 위한 함수를 작성한다.\n",
    "       검사용 예제는 검사에 사용되지 않는 예제에 반해 분류가 되어 있고, \n",
    "       예측된 분류 항목이 실질적인 분류 항목과 일치하지 않으면 오류로 계산한다.\n",
    "6. 사용: 헬렌이 입력한 몇 가지 데이터를 토대로 누구를 좋아하게 될 것인지를 예측하는 데 사용할 수 있는\n",
    "       간단한 커맨드 라인 프로그램을 구축한다."
   ]
  },
  {
   "cell_type": "markdown",
   "metadata": {},
   "source": [
    "** 준비: 텍스트 파일의 데이터 구문 분석하기\n",
    "\n",
    "- 연간 항공 마일리지 수\n",
    "- 비디오 게임으로 보내는 시간의 비율\n",
    "- 주당 아이스크림 소비량(리터)\n",
    "- label: didntLike, smallDoses, largeDoses"
   ]
  },
  {
   "cell_type": "code",
   "execution_count": 98,
   "metadata": {
    "collapsed": false
   },
   "outputs": [
    {
     "name": "stdout",
     "output_type": "stream",
     "text": [
      "40920\t8.326976\t0.953952\tlargeDoses\r",
      "\r\n",
      "14488\t7.153469\t1.673904\tsmallDoses\r",
      "\r\n",
      "26052\t1.441871\t0.805124\tdidntLike\r",
      "\r\n",
      "75136\t13.147394\t0.428964\tdidntLike\r",
      "\r\n",
      "38344\t1.669788\t0.134296\tdidntLike\r",
      "\r\n",
      "72993\t10.141740\t1.032955\tdidntLike\r",
      "\r\n",
      "35948\t6.830792\t1.213192\tlargeDoses\r",
      "\r\n",
      "42666\t13.276369\t0.543880\tlargeDoses\r",
      "\r\n",
      "67497\t8.631577\t0.749278\tdidntLike\r",
      "\r\n",
      "35483\t12.273169\t1.508053\tlargeDoses\r",
      "\r\n"
     ]
    }
   ],
   "source": [
    "!head machinelearninginaction/Ch02/datingTestSet.txt"
   ]
  },
  {
   "cell_type": "code",
   "execution_count": 5,
   "metadata": {
    "collapsed": true
   },
   "outputs": [],
   "source": [
    "def file2matrix(filename):\n",
    "    fr = open(filename)\n",
    "    numberOfLines = len(fr.readlines())\n",
    "    returnMat = zeros((numberOfLines, 3)) # hard coding...\n",
    "    classLabelVector = []\n",
    "    fr = open(filename)\n",
    "    index = 0\n",
    "    for line in fr.readlines():\n",
    "        line = line.strip()\n",
    "        listFromLine = line.split('\\t')\n",
    "        returnMat[index, :] = listFromLine[0:3]\n",
    "        classLabelVector.append(listFromLine[-1]) # label...\n",
    "        index += 1\n",
    "    return returnMat, classLabelVector"
   ]
  },
  {
   "cell_type": "code",
   "execution_count": 6,
   "metadata": {
    "collapsed": true
   },
   "outputs": [],
   "source": [
    "datingDataMat, datingLabels = file2matrix('machinelearninginaction/Ch02/datingTestSet.txt')"
   ]
  },
  {
   "cell_type": "code",
   "execution_count": 7,
   "metadata": {
    "collapsed": false
   },
   "outputs": [
    {
     "data": {
      "text/plain": [
       "array([[  4.09200000e+04,   8.32697600e+00,   9.53952000e-01],\n",
       "       [  1.44880000e+04,   7.15346900e+00,   1.67390400e+00],\n",
       "       [  2.60520000e+04,   1.44187100e+00,   8.05124000e-01],\n",
       "       ..., \n",
       "       [  2.65750000e+04,   1.06501020e+01,   8.66627000e-01],\n",
       "       [  4.81110000e+04,   9.13452800e+00,   7.28045000e-01],\n",
       "       [  4.37570000e+04,   7.88260100e+00,   1.33244600e+00]])"
      ]
     },
     "execution_count": 7,
     "metadata": {},
     "output_type": "execute_result"
    }
   ],
   "source": [
    "datingDataMat"
   ]
  },
  {
   "cell_type": "code",
   "execution_count": 8,
   "metadata": {
    "collapsed": false
   },
   "outputs": [
    {
     "data": {
      "text/plain": [
       "['largeDoses',\n",
       " 'smallDoses',\n",
       " 'didntLike',\n",
       " 'didntLike',\n",
       " 'didntLike',\n",
       " 'didntLike',\n",
       " 'largeDoses',\n",
       " 'largeDoses',\n",
       " 'didntLike',\n",
       " 'largeDoses',\n",
       " 'didntLike',\n",
       " 'didntLike',\n",
       " 'smallDoses',\n",
       " 'didntLike',\n",
       " 'didntLike',\n",
       " 'didntLike',\n",
       " 'didntLike',\n",
       " 'didntLike',\n",
       " 'smallDoses',\n",
       " 'largeDoses']"
      ]
     },
     "execution_count": 8,
     "metadata": {},
     "output_type": "execute_result"
    }
   ],
   "source": [
    "datingLabels[0:20]"
   ]
  },
  {
   "cell_type": "code",
   "execution_count": 80,
   "metadata": {
    "collapsed": false,
    "scrolled": true
   },
   "outputs": [
    {
     "data": {
      "text/plain": [
       "dict_values([2, 1, 3])"
      ]
     },
     "execution_count": 80,
     "metadata": {},
     "output_type": "execute_result"
    }
   ],
   "source": [
    "from collections import defaultdict\n",
    "from itertools import count\n",
    "from functools import partial\n",
    "\n",
    "label_to_number = defaultdict(partial(next, count(1)))\n",
    "datingLabels_i = [label_to_number[label] for label in datingLabels]\n",
    "label_to_number.keys()\n",
    "label_to_number.values()"
   ]
  },
  {
   "cell_type": "code",
   "execution_count": 82,
   "metadata": {
    "collapsed": false
   },
   "outputs": [
    {
     "data": {
      "text/plain": [
       "[1, 2, 3, 3, 3, 3, 1, 1, 3, 1, 3, 3, 2, 3, 3, 3, 3, 3, 2, 1]"
      ]
     },
     "execution_count": 82,
     "metadata": {},
     "output_type": "execute_result"
    }
   ],
   "source": [
    "datingLabels_i[0:20]"
   ]
  },
  {
   "cell_type": "markdown",
   "metadata": {},
   "source": [
    "모듈이 수정되었다면 실행하기 전에 해당 모듈을 다시 부러와야 한다.\n",
    "그렇지 않으면 이전 버전의 모듈로 동작한다."
   ]
  },
  {
   "cell_type": "markdown",
   "metadata": {},
   "source": [
    "** 분석: matplotlib로 scatter plot 생성"
   ]
  },
  {
   "cell_type": "code",
   "execution_count": 9,
   "metadata": {
    "collapsed": true
   },
   "outputs": [],
   "source": [
    "%matplotlib inline"
   ]
  },
  {
   "cell_type": "code",
   "execution_count": 10,
   "metadata": {
    "collapsed": true
   },
   "outputs": [],
   "source": [
    "import matplotlib\n",
    "import matplotlib.pyplot as plt"
   ]
  },
  {
   "cell_type": "code",
   "execution_count": 11,
   "metadata": {
    "collapsed": false
   },
   "outputs": [
    {
     "name": "stderr",
     "output_type": "stream",
     "text": [
      "/home/mrthink/.pyenv/versions/anaconda3-2.3.0/lib/python3.4/site-packages/matplotlib/collections.py:590: FutureWarning: elementwise comparison failed; returning scalar instead, but in the future will perform elementwise comparison\n",
      "  if self._edgecolors == str('face'):\n"
     ]
    },
    {
     "data": {
      "image/png": "[encoded data removed]",
      "text/plain": [
       "<matplotlib.figure.Figure at 0x7f8166ad0518>"
      ]
     },
     "metadata": {},
     "output_type": "display_data"
    }
   ],
   "source": [
    "fig = plt.figure()\n",
    "ax = fig.add_subplot(111)\n",
    "ax.scatter(datingDataMat[:,1], datingDataMat[:, 2])\n",
    "plt.show()"
   ]
  },
  {
   "cell_type": "code",
   "execution_count": null,
   "metadata": {
    "collapsed": true
   },
   "outputs": [],
   "source": [
    "fig = plt.figure()\n",
    "ax = fig.add_subplot(121)\n",
    "ax.scatter(datingDataMat[:,1], datingDataMat[:, 2])\n",
    "plt.show()"
   ]
  },
  {
   "cell_type": "code",
   "execution_count": 84,
   "metadata": {
    "collapsed": false,
    "scrolled": false
   },
   "outputs": [
    {
     "name": "stderr",
     "output_type": "stream",
     "text": [
      "/home/mrthink/.pyenv/versions/anaconda3-2.3.0/lib/python3.4/site-packages/matplotlib/collections.py:590: FutureWarning: elementwise comparison failed; returning scalar instead, but in the future will perform elementwise comparison\n",
      "  if self._edgecolors == str('face'):\n"
     ]
    },
    {
     "data": {
      "image/png": "[encoded data removed]",
      "text/plain": [
       "<matplotlib.figure.Figure at 0x7f81649c2898>"
      ]
     },
     "metadata": {},
     "output_type": "display_data"
    }
   ],
   "source": [
    "from numpy import array\n",
    "fig = plt.figure()\n",
    "ax = fig.add_subplot(111)\n",
    "ax.scatter(datingDataMat[:, 1], datingDataMat[:, 2], 15.0*array(datingLabels_i), 15.0*array(datingLabels_i))\n",
    "plt.show()"
   ]
  },
  {
   "cell_type": "code",
   "execution_count": 85,
   "metadata": {
    "collapsed": false
   },
   "outputs": [
    {
     "name": "stderr",
     "output_type": "stream",
     "text": [
      "/home/mrthink/.pyenv/versions/anaconda3-2.3.0/lib/python3.4/site-packages/matplotlib/collections.py:590: FutureWarning: elementwise comparison failed; returning scalar instead, but in the future will perform elementwise comparison\n",
      "  if self._edgecolors == str('face'):\n"
     ]
    },
    {
     "data": {
      "image/png": "[encoded data removed]",
      "text/plain": [
       "<matplotlib.figure.Figure at 0x7f816496eb00>"
      ]
     },
     "metadata": {},
     "output_type": "display_data"
    }
   ],
   "source": [
    "from numpy import array\n",
    "fig = plt.figure()\n",
    "ax = fig.add_subplot(111)\n",
    "ax.scatter(datingDataMat[:, 0], datingDataMat[:, 1], 15.0*array(datingLabels_i), 15.0*array(datingLabels_i))\n",
    "plt.show()"
   ]
  },
  {
   "cell_type": "markdown",
   "metadata": {},
   "source": [
    "datingTestSet2.txt라는 파일이 datingTestSet.txt에 있는 분류 항목 표시 값들을 정수형으로 변경해 놓은 파일이다."
   ]
  },
  {
   "cell_type": "markdown",
   "metadata": {},
   "source": [
    "** 준비: 수치형 값 정규화 하기\n",
    "\n",
    "sqrt( (0-67)^2 + (20000 - 32000)^2 + (1.1-0.1)^2 )\n",
    ": 큰 범위를 가지는 항목에 의해 결과가 결정되어 버림."
   ]
  },
  {
   "cell_type": "code",
   "execution_count": 15,
   "metadata": {
    "collapsed": true
   },
   "outputs": [],
   "source": [
    "def autoNorm(dataSet):\n",
    "    minVals = dataSet.min(0)\n",
    "    maxVals = dataSet.max(0)\n",
    "    ranges = maxVals - minVals\n",
    "    normDataSet = zeros(shape(dataSet))\n",
    "    m = dataSet.shape[0]\n",
    "    normDataSet = dataSet - tile(minVals, (m,1)) # for문 없이 연산하게 함.\n",
    "    normDataSet = normDataSet / tile(ranges, (m,1))\n",
    "    \n",
    "    return normDataSet, ranges, minVals"
   ]
  },
  {
   "cell_type": "code",
   "execution_count": 87,
   "metadata": {
    "collapsed": false
   },
   "outputs": [
    {
     "data": {
      "text/plain": [
       "(array([ 0.      ,  0.      ,  0.001156]),\n",
       " array([  9.12730000e+04,   2.09193490e+01,   1.69551700e+00]))"
      ]
     },
     "execution_count": 87,
     "metadata": {},
     "output_type": "execute_result"
    }
   ],
   "source": [
    "(datingDataMat.min(0), datingDataMat.max(0))"
   ]
  },
  {
   "cell_type": "code",
   "execution_count": 88,
   "metadata": {
    "collapsed": false
   },
   "outputs": [
    {
     "data": {
      "text/plain": [
       "numpy.ndarray"
      ]
     },
     "execution_count": 88,
     "metadata": {},
     "output_type": "execute_result"
    }
   ],
   "source": [
    "type(datingDataMat)"
   ]
  },
  {
   "cell_type": "markdown",
   "metadata": {},
   "source": [
    "** numpy.linalg.solve(a, b)\n",
    "\n",
    "Solve a linear matrix equation, or system of linear scalar equations.\n",
    "Computes the “exact” solution, x, of the well-determined, i.e., full rank, linear matrix equation ax = b."
   ]
  },
  {
   "cell_type": "code",
   "execution_count": 91,
   "metadata": {
    "collapsed": false
   },
   "outputs": [
    {
     "data": {
      "text/plain": [
       "array([[ 0.44832535,  0.39805139,  0.56233353],\n",
       "       [ 0.15873259,  0.34195467,  0.98724416],\n",
       "       [ 0.28542943,  0.06892523,  0.47449629],\n",
       "       ..., \n",
       "       [ 0.29115949,  0.50910294,  0.51079493],\n",
       "       [ 0.52711097,  0.43665451,  0.4290048 ],\n",
       "       [ 0.47940793,  0.3768091 ,  0.78571804]])"
      ]
     },
     "execution_count": 91,
     "metadata": {},
     "output_type": "execute_result"
    }
   ],
   "source": [
    "normMat, ranges, minVals = autoNorm(datingDataMat)\n",
    "normMat"
   ]
  },
  {
   "cell_type": "code",
   "execution_count": 92,
   "metadata": {
    "collapsed": false
   },
   "outputs": [
    {
     "data": {
      "text/plain": [
       "array([  9.12730000e+04,   2.09193490e+01,   1.69436100e+00])"
      ]
     },
     "execution_count": 92,
     "metadata": {},
     "output_type": "execute_result"
    }
   ],
   "source": [
    "ranges"
   ]
  },
  {
   "cell_type": "code",
   "execution_count": 93,
   "metadata": {
    "collapsed": false
   },
   "outputs": [
    {
     "data": {
      "text/plain": [
       "array([ 0.      ,  0.      ,  0.001156])"
      ]
     },
     "execution_count": 93,
     "metadata": {},
     "output_type": "execute_result"
    }
   ],
   "source": [
    "minVals"
   ]
  },
  {
   "cell_type": "markdown",
   "metadata": {},
   "source": [
    "** 검사: 전체 프로그램으로 분류기 검사\n",
    "\n",
    "90% data로 분류기의 학습을 하고,\n",
    "나머지 10% data로 검사를 수행함."
   ]
  },
  {
   "cell_type": "code",
   "execution_count": 96,
   "metadata": {
    "collapsed": true
   },
   "outputs": [],
   "source": [
    "def datingClassTest():\n",
    "    hoRatio = 0.10\n",
    "    datingDataMat, datingLabels = file2matrix('machinelearninginaction/Ch02/datingTestSet.txt') ## label이 int인 것으로 바꿔서 해볼 수도 있음.\n",
    "    normMat, ranges, minVals = autoNorm(datingDataMat)\n",
    "    m = normMat.shape[0]\n",
    "    numTestVecs = int(m * hoRatio)\n",
    "    errorCount = 0.0\n",
    "    ## kNN은 학습 과정이 필요 없으므로 바로 인식으로 들어감.\n",
    "    # 앞쪽 10%의 data만을 사용하여 test를 수행함. 나머지는 모델로 활용.\n",
    "    for i in range(numTestVecs):\n",
    "        classifierResult = classify0(normMat[i, :], normMat[numTestVecs:m, :],\\\n",
    "                                    datingLabels[numTestVecs:m], 3)\n",
    "        print(\"the classifier came back with: %s, the real answer is: %s\"\\\n",
    "              %(classifierResult, datingLabels[i])) ## ???\n",
    "        if(classifierResult != datingLabels[i]):\n",
    "            errorCount += 1.0\n",
    "            \n",
    "    print(\"the total error rate is: %f\" % (errorCount/float(numTestVecs)))"
   ]
  },
  {
   "cell_type": "code",
   "execution_count": 97,
   "metadata": {
    "collapsed": false,
    "scrolled": true
   },
   "outputs": [
    {
     "name": "stdout",
     "output_type": "stream",
     "text": [
      "the classifier came back with: largeDoses, the real answer is: largeDoses\n",
      "the classifier came back with: smallDoses, the real answer is: smallDoses\n",
      "the classifier came back with: didntLike, the real answer is: didntLike\n",
      "the classifier came back with: didntLike, the real answer is: didntLike\n",
      "the classifier came back with: didntLike, the real answer is: didntLike\n",
      "the classifier came back with: didntLike, the real answer is: didntLike\n",
      "the classifier came back with: largeDoses, the real answer is: largeDoses\n",
      "the classifier came back with: largeDoses, the real answer is: largeDoses\n",
      "the classifier came back with: didntLike, the real answer is: didntLike\n",
      "the classifier came back with: largeDoses, the real answer is: largeDoses\n",
      "the classifier came back with: didntLike, the real answer is: didntLike\n",
      "the classifier came back with: didntLike, the real answer is: didntLike\n",
      "the classifier came back with: smallDoses, the real answer is: smallDoses\n",
      "the classifier came back with: didntLike, the real answer is: didntLike\n",
      "the classifier came back with: didntLike, the real answer is: didntLike\n",
      "the classifier came back with: didntLike, the real answer is: didntLike\n",
      "the classifier came back with: didntLike, the real answer is: didntLike\n",
      "the classifier came back with: didntLike, the real answer is: didntLike\n",
      "the classifier came back with: smallDoses, the real answer is: smallDoses\n",
      "the classifier came back with: largeDoses, the real answer is: largeDoses\n",
      "the classifier came back with: smallDoses, the real answer is: smallDoses\n",
      "the classifier came back with: didntLike, the real answer is: didntLike\n",
      "the classifier came back with: smallDoses, the real answer is: smallDoses\n",
      "the classifier came back with: largeDoses, the real answer is: largeDoses\n",
      "the classifier came back with: smallDoses, the real answer is: smallDoses\n",
      "the classifier came back with: largeDoses, the real answer is: largeDoses\n",
      "the classifier came back with: smallDoses, the real answer is: smallDoses\n",
      "the classifier came back with: largeDoses, the real answer is: largeDoses\n",
      "the classifier came back with: smallDoses, the real answer is: smallDoses\n",
      "the classifier came back with: didntLike, the real answer is: didntLike\n",
      "the classifier came back with: largeDoses, the real answer is: largeDoses\n",
      "the classifier came back with: didntLike, the real answer is: didntLike\n",
      "the classifier came back with: largeDoses, the real answer is: largeDoses\n",
      "the classifier came back with: didntLike, the real answer is: didntLike\n",
      "the classifier came back with: smallDoses, the real answer is: smallDoses\n",
      "the classifier came back with: didntLike, the real answer is: didntLike\n",
      "the classifier came back with: didntLike, the real answer is: didntLike\n",
      "the classifier came back with: smallDoses, the real answer is: smallDoses\n",
      "the classifier came back with: largeDoses, the real answer is: largeDoses\n",
      "the classifier came back with: largeDoses, the real answer is: largeDoses\n",
      "the classifier came back with: didntLike, the real answer is: didntLike\n",
      "the classifier came back with: smallDoses, the real answer is: smallDoses\n",
      "the classifier came back with: largeDoses, the real answer is: largeDoses\n",
      "the classifier came back with: largeDoses, the real answer is: largeDoses\n",
      "the classifier came back with: largeDoses, the real answer is: largeDoses\n",
      "the classifier came back with: didntLike, the real answer is: didntLike\n",
      "the classifier came back with: didntLike, the real answer is: didntLike\n",
      "the classifier came back with: didntLike, the real answer is: didntLike\n",
      "the classifier came back with: didntLike, the real answer is: didntLike\n",
      "the classifier came back with: smallDoses, the real answer is: smallDoses\n",
      "the classifier came back with: smallDoses, the real answer is: smallDoses\n",
      "the classifier came back with: didntLike, the real answer is: didntLike\n",
      "the classifier came back with: largeDoses, the real answer is: largeDoses\n",
      "the classifier came back with: smallDoses, the real answer is: smallDoses\n",
      "the classifier came back with: smallDoses, the real answer is: smallDoses\n",
      "the classifier came back with: smallDoses, the real answer is: smallDoses\n",
      "the classifier came back with: smallDoses, the real answer is: smallDoses\n",
      "the classifier came back with: largeDoses, the real answer is: largeDoses\n",
      "the classifier came back with: didntLike, the real answer is: didntLike\n",
      "the classifier came back with: smallDoses, the real answer is: smallDoses\n",
      "the classifier came back with: didntLike, the real answer is: didntLike\n",
      "the classifier came back with: smallDoses, the real answer is: smallDoses\n",
      "the classifier came back with: smallDoses, the real answer is: smallDoses\n",
      "the classifier came back with: smallDoses, the real answer is: smallDoses\n",
      "the classifier came back with: smallDoses, the real answer is: smallDoses\n",
      "the classifier came back with: smallDoses, the real answer is: smallDoses\n",
      "the classifier came back with: largeDoses, the real answer is: largeDoses\n",
      "the classifier came back with: smallDoses, the real answer is: smallDoses\n",
      "the classifier came back with: largeDoses, the real answer is: largeDoses\n",
      "the classifier came back with: didntLike, the real answer is: didntLike\n",
      "the classifier came back with: smallDoses, the real answer is: smallDoses\n",
      "the classifier came back with: largeDoses, the real answer is: largeDoses\n",
      "the classifier came back with: smallDoses, the real answer is: smallDoses\n",
      "the classifier came back with: smallDoses, the real answer is: smallDoses\n",
      "the classifier came back with: largeDoses, the real answer is: didntLike\n",
      "the classifier came back with: largeDoses, the real answer is: largeDoses\n",
      "the classifier came back with: didntLike, the real answer is: didntLike\n",
      "the classifier came back with: didntLike, the real answer is: didntLike\n",
      "the classifier came back with: largeDoses, the real answer is: largeDoses\n",
      "the classifier came back with: largeDoses, the real answer is: largeDoses\n",
      "the classifier came back with: didntLike, the real answer is: didntLike\n",
      "the classifier came back with: smallDoses, the real answer is: smallDoses\n",
      "the classifier came back with: largeDoses, the real answer is: largeDoses\n",
      "the classifier came back with: largeDoses, the real answer is: didntLike\n",
      "the classifier came back with: largeDoses, the real answer is: largeDoses\n",
      "the classifier came back with: didntLike, the real answer is: didntLike\n",
      "the classifier came back with: smallDoses, the real answer is: smallDoses\n",
      "the classifier came back with: smallDoses, the real answer is: smallDoses\n",
      "the classifier came back with: didntLike, the real answer is: didntLike\n",
      "the classifier came back with: didntLike, the real answer is: didntLike\n",
      "the classifier came back with: largeDoses, the real answer is: largeDoses\n",
      "the classifier came back with: smallDoses, the real answer is: largeDoses\n",
      "the classifier came back with: didntLike, the real answer is: didntLike\n",
      "the classifier came back with: smallDoses, the real answer is: smallDoses\n",
      "the classifier came back with: didntLike, the real answer is: didntLike\n",
      "the classifier came back with: largeDoses, the real answer is: largeDoses\n",
      "the classifier came back with: largeDoses, the real answer is: largeDoses\n",
      "the classifier came back with: smallDoses, the real answer is: smallDoses\n",
      "the classifier came back with: didntLike, the real answer is: didntLike\n",
      "the classifier came back with: largeDoses, the real answer is: didntLike\n",
      "the total error rate is: 0.040000\n"
     ]
    }
   ],
   "source": [
    "datingClassTest()"
   ]
  },
  {
   "cell_type": "markdown",
   "metadata": {},
   "source": [
    "** 사용: 모두에게 유용한 시스템 만들기"
   ]
  },
  {
   "cell_type": "code",
   "execution_count": 46,
   "metadata": {
    "collapsed": false
   },
   "outputs": [],
   "source": [
    "def classifyPerson():\n",
    "    resultList = ['not at all', 'in small doses', 'in large doses']\n",
    "    percentTats = float(input(\"percentage of time spent playing video mages?\"))\n",
    "    ffMiles = float(input(\"frequent flier limes earned per year?\"))\n",
    "    iceCream = float(input(\"liters of ice cream consumed per year?\"))\n",
    "    datingDataMat, datingLabels = file2matrix('machinelearninginaction/Ch02/datingTestSet.txt')\n",
    "    normMat, ranges, minVals = autoNorm(datingDataMat)\n",
    "    inArr = array([ffMiles, percentTats, iceCream])\n",
    "    classifierResult = classify0((inArr - minVals)/ranges, normMat, datingLabels, 3)\n",
    "    print(\"You will probably like this person: \", classifierResult)\n",
    "#     print(\"You will probably like this person: \", resultList[int(float(classifierResult)) -1]) ## ???"
   ]
  },
  {
   "cell_type": "code",
   "execution_count": 47,
   "metadata": {
    "collapsed": false
   },
   "outputs": [
    {
     "name": "stdout",
     "output_type": "stream",
     "text": [
      "percentage of time spent playing video mages?10\n",
      "frequent flier limes earned per year?10000\n",
      "liters of ice cream consumed per year?0.5\n",
      "You will probably like this person:  smallDoses\n"
     ]
    }
   ],
   "source": [
    "classifyPerson()"
   ]
  },
  {
   "cell_type": "markdown",
   "metadata": {},
   "source": [
    "# 필기체 인식 시스템"
   ]
  },
  {
   "cell_type": "markdown",
   "metadata": {
    "collapsed": true
   },
   "source": [
    "** 필기체 인식 시스템에서 kNN 사용하기\n",
    "\n",
    "1. 수집: 제공된 텍스트 파일\n",
    "2. 준비: 분류기 classify0()을 사용해서 이미지 형태를 리스트 형태로 전환하는 함수 작성\n",
    "3. 분석: 올바른 데이터인지 확인하기 위해 파이썬 쉘에서 준비된 데이터 관찰\n",
    "4. 훈련: kNN 알고리즘에는 적용되지 않음\n",
    "5. 검사: 검사용 예제에 있는 데이터의 일부분을 사용하여 함수 만들기. \n",
    "       검사에 사용되지 않을 예제로부터 검사에 사용될 예제를 분류해 낸다.\n",
    "       예측된 분류 항목이 실제 분류 항목과 일치하지 않는다면, 오류로 간주하고 오류 횟수를 누적한다.\n",
    "6. 사용: 이 예제에서는 다루지 않는다. 미국에서 메일을 정렬하기 위해 사용되는 시스템처럼 \n",
    "       이미지로부터 번호를 추출하기 위한 프로그램을 만들 수 있다."
   ]
  },
  {
   "cell_type": "markdown",
   "metadata": {},
   "source": [
    "** 준비: 이미지를 vector로 변환하기\n",
    "\n",
    "훈련용: 2000개의 예제가 있으며 번호별로 대략 200개의 표본이 있음\n",
    "검사용: 900개의 예제가 있음.\n",
    "\n",
    "두 그룹간의 중복이 없어야 함.\n",
    "\n",
    "기존의 분류기로 처리하기 위해서 이미지를 하나의 vector로 재구성해야 함.\n",
    "즉, 32x32 행렬로 이루어진 각각의 바이너리 이미지를 1x1024 vector로 처리함."
   ]
  },
  {
   "cell_type": "code",
   "execution_count": 21,
   "metadata": {
    "collapsed": true
   },
   "outputs": [],
   "source": [
    "def img2vector(filename):\n",
    "    returnVect = zeros((1, 1024))\n",
    "    fr = open(filename)\n",
    "    for i in range(32):\n",
    "        lineStr = fr.readline()\n",
    "        for j in range(32):\n",
    "            returnVect[0, 32*i+j] = int(lineStr[j])\n",
    "            \n",
    "    return returnVect"
   ]
  },
  {
   "cell_type": "code",
   "execution_count": 23,
   "metadata": {
    "collapsed": false
   },
   "outputs": [],
   "source": [
    "testVector = img2vector('machinelearninginaction/Ch02/testDigits/0_13.txt')"
   ]
  },
  {
   "cell_type": "code",
   "execution_count": 24,
   "metadata": {
    "collapsed": false
   },
   "outputs": [
    {
     "data": {
      "text/plain": [
       "array([ 0.,  0.,  0.,  0.,  0.,  0.,  0.,  0.,  0.,  0.,  0.,  0.,  0.,\n",
       "        0.,  1.,  1.,  1.,  1.,  0.,  0.,  0.,  0.,  0.,  0.,  0.,  0.,\n",
       "        0.,  0.,  0.,  0.,  0.])"
      ]
     },
     "execution_count": 24,
     "metadata": {},
     "output_type": "execute_result"
    }
   ],
   "source": [
    "testVector[0, 0:31]"
   ]
  },
  {
   "cell_type": "code",
   "execution_count": 25,
   "metadata": {
    "collapsed": false
   },
   "outputs": [
    {
     "data": {
      "text/plain": [
       "array([ 0.,  0.,  0.,  0.,  0.,  0.,  0.,  0.,  0.,  0.,  0.,  0.,  1.,\n",
       "        1.,  1.,  1.,  1.,  1.,  1.,  0.,  0.,  0.,  0.,  0.,  0.,  0.,\n",
       "        0.,  0.,  0.,  0.,  0.])"
      ]
     },
     "execution_count": 25,
     "metadata": {},
     "output_type": "execute_result"
    }
   ],
   "source": [
    "testVector[0, 32:63]"
   ]
  },
  {
   "cell_type": "markdown",
   "metadata": {},
   "source": [
    "** 검사: 필기체 번호에 kNN 적용하기\n",
    "\n",
    "모든 값이 0과 1 이기때문에 autoNorm()을 사용하지 않는다.\n"
   ]
  },
  {
   "cell_type": "code",
   "execution_count": 31,
   "metadata": {
    "collapsed": true
   },
   "outputs": [],
   "source": [
    "from os import listdir\n",
    "\n",
    "def handwritingClassTest():\n",
    "    hwLabels = []\n",
    "    trainingFileList = listdir('machinelearninginaction/Ch02/trainingDigits')\n",
    "    m = len(trainingFileList)\n",
    "    trainingMat = zeros((m, 1024)) # 1x1024 vector...\n",
    "    for i in range(m):\n",
    "        fileNameStr = trainingFileList[i]\n",
    "        fileStr = fileNameStr.split('.')[0]\n",
    "        classNumStr = int(fileStr.split('_')[0]) # 분류번호 추출\n",
    "        hwLabels.append(classNumStr)\n",
    "        trainingMat[i, :] = img2vector('machinelearninginaction/Ch02/trainingDigits/%s' % fileNameStr)\n",
    "        \n",
    "    testFileList = listdir('machinelearninginaction/Ch02/testDigits')\n",
    "    errorCount = 0.0\n",
    "    mTest = len(testFileList)\n",
    "    # 한번에 하나의 file을 처리함.\n",
    "    for i in range(mTest):\n",
    "        fileNameStr = testFileList[i]\n",
    "        fileStr = fileNameStr.split('.')[0]\n",
    "        classNumStr = int(fileStr.split('_')[0])\n",
    "        vectorUnderTest = img2vector('machinelearninginaction/Ch02/testDigits/%s' % fileNameStr)\n",
    "        classifierResult = classify0(vectorUnderTest, trainingMat, hwLabels, 3)\n",
    "        print(\"the classifier came back with: %d, the real answer is: %d\"\\\n",
    "              % (classifierResult, classNumStr))\n",
    "        if(classifierResult != classNumStr):\n",
    "            errorCount += 1.0\n",
    "    \n",
    "    print(\"\\nthe total number of errors is: %d\" % errorCount)\n",
    "    print(\"\\nthe total error rate is: %f\" % (errorCount/float(mTest)))"
   ]
  },
  {
   "cell_type": "code",
   "execution_count": 32,
   "metadata": {
    "collapsed": false,
    "scrolled": true
   },
   "outputs": [
    {
     "name": "stdout",
     "output_type": "stream",
     "text": [
      "the classifier came back with: 6, the real answer is: 6\n",
      "the classifier came back with: 0, the real answer is: 0\n",
      "the classifier came back with: 0, the real answer is: 0\n",
      "the classifier came back with: 5, the real answer is: 5\n",
      "the classifier came back with: 6, the real answer is: 6\n",
      "the classifier came back with: 5, the real answer is: 5\n",
      "the classifier came back with: 8, the real answer is: 8\n",
      "the classifier came back with: 5, the real answer is: 5\n",
      "the classifier came back with: 5, the real answer is: 5\n",
      "the classifier came back with: 1, the real answer is: 1\n",
      "the classifier came back with: 3, the real answer is: 3\n",
      "the classifier came back with: 8, the real answer is: 8\n",
      "the classifier came back with: 0, the real answer is: 0\n",
      "the classifier came back with: 2, the real answer is: 2\n",
      "the classifier came back with: 4, the real answer is: 4\n",
      "the classifier came back with: 7, the real answer is: 7\n",
      "the classifier came back with: 4, the real answer is: 4\n",
      "the classifier came back with: 3, the real answer is: 3\n",
      "the classifier came back with: 1, the real answer is: 1\n",
      "the classifier came back with: 2, the real answer is: 2\n",
      "the classifier came back with: 0, the real answer is: 0\n",
      "the classifier came back with: 4, the real answer is: 4\n",
      "the classifier came back with: 7, the real answer is: 7\n",
      "the classifier came back with: 3, the real answer is: 3\n",
      "the classifier came back with: 8, the real answer is: 8\n",
      "the classifier came back with: 0, the real answer is: 0\n",
      "the classifier came back with: 2, the real answer is: 2\n",
      "the classifier came back with: 0, the real answer is: 0\n",
      "the classifier came back with: 9, the real answer is: 9\n",
      "the classifier came back with: 8, the real answer is: 8\n",
      "the classifier came back with: 4, the real answer is: 4\n",
      "the classifier came back with: 9, the real answer is: 9\n",
      "the classifier came back with: 9, the real answer is: 9\n",
      "the classifier came back with: 0, the real answer is: 0\n",
      "the classifier came back with: 2, the real answer is: 2\n",
      "the classifier came back with: 3, the real answer is: 3\n",
      "the classifier came back with: 3, the real answer is: 3\n",
      "the classifier came back with: 4, the real answer is: 4\n",
      "the classifier came back with: 2, the real answer is: 2\n",
      "the classifier came back with: 0, the real answer is: 0\n",
      "the classifier came back with: 3, the real answer is: 3\n",
      "the classifier came back with: 9, the real answer is: 9\n",
      "the classifier came back with: 8, the real answer is: 8\n",
      "the classifier came back with: 6, the real answer is: 6\n",
      "the classifier came back with: 9, the real answer is: 9\n",
      "the classifier came back with: 2, the real answer is: 2\n",
      "the classifier came back with: 8, the real answer is: 8\n",
      "the classifier came back with: 5, the real answer is: 5\n",
      "the classifier came back with: 8, the real answer is: 8\n",
      "the classifier came back with: 0, the real answer is: 0\n",
      "the classifier came back with: 7, the real answer is: 7\n",
      "the classifier came back with: 1, the real answer is: 1\n",
      "the classifier came back with: 7, the real answer is: 7\n",
      "the classifier came back with: 5, the real answer is: 5\n",
      "the classifier came back with: 7, the real answer is: 7\n",
      "the classifier came back with: 6, the real answer is: 6\n",
      "the classifier came back with: 1, the real answer is: 1\n",
      "the classifier came back with: 4, the real answer is: 4\n",
      "the classifier came back with: 8, the real answer is: 8\n",
      "the classifier came back with: 9, the real answer is: 9\n",
      "the classifier came back with: 1, the real answer is: 1\n",
      "the classifier came back with: 3, the real answer is: 3\n",
      "the classifier came back with: 4, the real answer is: 4\n",
      "the classifier came back with: 6, the real answer is: 6\n",
      "the classifier came back with: 7, the real answer is: 7\n",
      "the classifier came back with: 5, the real answer is: 5\n",
      "the classifier came back with: 6, the real answer is: 6\n",
      "the classifier came back with: 2, the real answer is: 2\n",
      "the classifier came back with: 9, the real answer is: 9\n",
      "the classifier came back with: 6, the real answer is: 6\n",
      "the classifier came back with: 7, the real answer is: 7\n",
      "the classifier came back with: 2, the real answer is: 2\n",
      "the classifier came back with: 0, the real answer is: 0\n",
      "the classifier came back with: 7, the real answer is: 7\n",
      "the classifier came back with: 3, the real answer is: 3\n",
      "the classifier came back with: 3, the real answer is: 3\n",
      "the classifier came back with: 5, the real answer is: 5\n",
      "the classifier came back with: 5, the real answer is: 5\n",
      "the classifier came back with: 8, the real answer is: 8\n",
      "the classifier came back with: 1, the real answer is: 1\n",
      "the classifier came back with: 0, the real answer is: 0\n",
      "the classifier came back with: 5, the real answer is: 5\n",
      "the classifier came back with: 1, the real answer is: 1\n",
      "the classifier came back with: 0, the real answer is: 0\n",
      "the classifier came back with: 9, the real answer is: 9\n",
      "the classifier came back with: 0, the real answer is: 0\n",
      "the classifier came back with: 2, the real answer is: 2\n",
      "the classifier came back with: 4, the real answer is: 4\n",
      "the classifier came back with: 3, the real answer is: 5\n",
      "the classifier came back with: 9, the real answer is: 9\n",
      "the classifier came back with: 2, the real answer is: 2\n",
      "the classifier came back with: 4, the real answer is: 4\n",
      "the classifier came back with: 0, the real answer is: 0\n",
      "the classifier came back with: 1, the real answer is: 1\n",
      "the classifier came back with: 6, the real answer is: 6\n",
      "the classifier came back with: 1, the real answer is: 1\n",
      "the classifier came back with: 9, the real answer is: 9\n",
      "the classifier came back with: 3, the real answer is: 3\n",
      "the classifier came back with: 4, the real answer is: 4\n",
      "the classifier came back with: 4, the real answer is: 4\n",
      "the classifier came back with: 1, the real answer is: 1\n",
      "the classifier came back with: 4, the real answer is: 4\n",
      "the classifier came back with: 4, the real answer is: 4\n",
      "the classifier came back with: 6, the real answer is: 6\n",
      "the classifier came back with: 3, the real answer is: 3\n",
      "the classifier came back with: 8, the real answer is: 8\n",
      "the classifier came back with: 1, the real answer is: 1\n",
      "the classifier came back with: 2, the real answer is: 2\n",
      "the classifier came back with: 6, the real answer is: 6\n",
      "the classifier came back with: 8, the real answer is: 8\n",
      "the classifier came back with: 3, the real answer is: 3\n",
      "the classifier came back with: 4, the real answer is: 4\n",
      "the classifier came back with: 3, the real answer is: 3\n",
      "the classifier came back with: 5, the real answer is: 5\n",
      "the classifier came back with: 3, the real answer is: 3\n",
      "the classifier came back with: 2, the real answer is: 2\n",
      "the classifier came back with: 6, the real answer is: 6\n",
      "the classifier came back with: 8, the real answer is: 8\n",
      "the classifier came back with: 3, the real answer is: 3\n",
      "the classifier came back with: 2, the real answer is: 2\n",
      "the classifier came back with: 9, the real answer is: 9\n",
      "the classifier came back with: 7, the real answer is: 7\n",
      "the classifier came back with: 5, the real answer is: 5\n",
      "the classifier came back with: 8, the real answer is: 8\n",
      "the classifier came back with: 8, the real answer is: 8\n",
      "the classifier came back with: 7, the real answer is: 7\n",
      "the classifier came back with: 8, the real answer is: 8\n",
      "the classifier came back with: 4, the real answer is: 4\n",
      "the classifier came back with: 5, the real answer is: 5\n",
      "the classifier came back with: 4, the real answer is: 4\n",
      "the classifier came back with: 9, the real answer is: 9\n",
      "the classifier came back with: 7, the real answer is: 7\n",
      "the classifier came back with: 6, the real answer is: 6\n",
      "the classifier came back with: 8, the real answer is: 8\n",
      "the classifier came back with: 0, the real answer is: 0\n",
      "the classifier came back with: 2, the real answer is: 2\n",
      "the classifier came back with: 2, the real answer is: 2\n",
      "the classifier came back with: 7, the real answer is: 7\n",
      "the classifier came back with: 4, the real answer is: 4\n",
      "the classifier came back with: 6, the real answer is: 6\n",
      "the classifier came back with: 1, the real answer is: 1\n",
      "the classifier came back with: 1, the real answer is: 1\n",
      "the classifier came back with: 1, the real answer is: 1\n",
      "the classifier came back with: 7, the real answer is: 7\n",
      "the classifier came back with: 7, the real answer is: 7\n",
      "the classifier came back with: 0, the real answer is: 0\n",
      "the classifier came back with: 5, the real answer is: 5\n",
      "the classifier came back with: 4, the real answer is: 4\n",
      "the classifier came back with: 0, the real answer is: 0\n",
      "the classifier came back with: 4, the real answer is: 4\n",
      "the classifier came back with: 6, the real answer is: 6\n",
      "the classifier came back with: 6, the real answer is: 6\n",
      "the classifier came back with: 1, the real answer is: 1\n",
      "the classifier came back with: 6, the real answer is: 6\n",
      "the classifier came back with: 1, the real answer is: 1\n",
      "the classifier came back with: 8, the real answer is: 8\n",
      "the classifier came back with: 4, the real answer is: 4\n",
      "the classifier came back with: 1, the real answer is: 1\n",
      "the classifier came back with: 4, the real answer is: 4\n",
      "the classifier came back with: 7, the real answer is: 7\n",
      "the classifier came back with: 6, the real answer is: 6\n",
      "the classifier came back with: 1, the real answer is: 1\n",
      "the classifier came back with: 9, the real answer is: 9\n",
      "the classifier came back with: 3, the real answer is: 3\n",
      "the classifier came back with: 2, the real answer is: 2\n",
      "the classifier came back with: 5, the real answer is: 5\n",
      "the classifier came back with: 8, the real answer is: 8\n",
      "the classifier came back with: 9, the real answer is: 9\n",
      "the classifier came back with: 1, the real answer is: 1\n",
      "the classifier came back with: 2, the real answer is: 2\n",
      "the classifier came back with: 8, the real answer is: 8\n",
      "the classifier came back with: 9, the real answer is: 9\n",
      "the classifier came back with: 5, the real answer is: 5\n",
      "the classifier came back with: 0, the real answer is: 0\n",
      "the classifier came back with: 6, the real answer is: 6\n",
      "the classifier came back with: 2, the real answer is: 2\n",
      "the classifier came back with: 9, the real answer is: 9\n",
      "the classifier came back with: 2, the real answer is: 2\n",
      "the classifier came back with: 9, the real answer is: 9\n",
      "the classifier came back with: 5, the real answer is: 5\n",
      "the classifier came back with: 9, the real answer is: 9\n",
      "the classifier came back with: 6, the real answer is: 6\n",
      "the classifier came back with: 4, the real answer is: 4\n",
      "the classifier came back with: 1, the real answer is: 1\n",
      "the classifier came back with: 9, the real answer is: 9\n",
      "the classifier came back with: 0, the real answer is: 0\n",
      "the classifier came back with: 8, the real answer is: 8\n",
      "the classifier came back with: 3, the real answer is: 3\n",
      "the classifier came back with: 4, the real answer is: 4\n",
      "the classifier came back with: 0, the real answer is: 0\n",
      "the classifier came back with: 5, the real answer is: 5\n",
      "the classifier came back with: 7, the real answer is: 7\n",
      "the classifier came back with: 7, the real answer is: 7\n",
      "the classifier came back with: 6, the real answer is: 6\n",
      "the classifier came back with: 3, the real answer is: 3\n",
      "the classifier came back with: 3, the real answer is: 3\n",
      "the classifier came back with: 1, the real answer is: 1\n",
      "the classifier came back with: 8, the real answer is: 8\n",
      "the classifier came back with: 2, the real answer is: 2\n",
      "the classifier came back with: 5, the real answer is: 5\n",
      "the classifier came back with: 2, the real answer is: 2\n",
      "the classifier came back with: 9, the real answer is: 9\n",
      "the classifier came back with: 9, the real answer is: 9\n",
      "the classifier came back with: 0, the real answer is: 0\n",
      "the classifier came back with: 1, the real answer is: 1\n",
      "the classifier came back with: 5, the real answer is: 5\n",
      "the classifier came back with: 7, the real answer is: 7\n",
      "the classifier came back with: 9, the real answer is: 9\n",
      "the classifier came back with: 4, the real answer is: 4\n",
      "the classifier came back with: 2, the real answer is: 2\n",
      "the classifier came back with: 2, the real answer is: 2\n",
      "the classifier came back with: 3, the real answer is: 3\n",
      "the classifier came back with: 6, the real answer is: 8\n",
      "the classifier came back with: 7, the real answer is: 7\n",
      "the classifier came back with: 2, the real answer is: 2\n",
      "the classifier came back with: 5, the real answer is: 5\n",
      "the classifier came back with: 1, the real answer is: 9\n",
      "the classifier came back with: 0, the real answer is: 0\n",
      "the classifier came back with: 6, the real answer is: 6\n",
      "the classifier came back with: 5, the real answer is: 5\n",
      "the classifier came back with: 2, the real answer is: 2\n",
      "the classifier came back with: 3, the real answer is: 3\n",
      "the classifier came back with: 8, the real answer is: 8\n",
      "the classifier came back with: 0, the real answer is: 0\n",
      "the classifier came back with: 6, the real answer is: 6\n",
      "the classifier came back with: 5, the real answer is: 5\n",
      "the classifier came back with: 9, the real answer is: 9\n",
      "the classifier came back with: 6, the real answer is: 6\n",
      "the classifier came back with: 8, the real answer is: 8\n",
      "the classifier came back with: 8, the real answer is: 8\n",
      "the classifier came back with: 9, the real answer is: 3\n",
      "the classifier came back with: 2, the real answer is: 2\n",
      "the classifier came back with: 3, the real answer is: 3\n",
      "the classifier came back with: 1, the real answer is: 1\n",
      "the classifier came back with: 4, the real answer is: 4\n",
      "the classifier came back with: 8, the real answer is: 8\n",
      "the classifier came back with: 1, the real answer is: 1\n",
      "the classifier came back with: 2, the real answer is: 2\n",
      "the classifier came back with: 5, the real answer is: 5\n",
      "the classifier came back with: 3, the real answer is: 3\n",
      "the classifier came back with: 7, the real answer is: 7\n",
      "the classifier came back with: 7, the real answer is: 7\n",
      "the classifier came back with: 3, the real answer is: 3\n",
      "the classifier came back with: 8, the real answer is: 8\n",
      "the classifier came back with: 3, the real answer is: 3\n",
      "the classifier came back with: 7, the real answer is: 7\n",
      "the classifier came back with: 9, the real answer is: 9\n",
      "the classifier came back with: 3, the real answer is: 3\n",
      "the classifier came back with: 9, the real answer is: 9\n",
      "the classifier came back with: 5, the real answer is: 5\n",
      "the classifier came back with: 1, the real answer is: 1\n",
      "the classifier came back with: 0, the real answer is: 0\n",
      "the classifier came back with: 1, the real answer is: 1\n",
      "the classifier came back with: 3, the real answer is: 3\n",
      "the classifier came back with: 7, the real answer is: 7\n",
      "the classifier came back with: 7, the real answer is: 7\n",
      "the classifier came back with: 5, the real answer is: 5\n",
      "the classifier came back with: 8, the real answer is: 8\n",
      "the classifier came back with: 2, the real answer is: 2\n",
      "the classifier came back with: 5, the real answer is: 5\n",
      "the classifier came back with: 5, the real answer is: 9\n",
      "the classifier came back with: 7, the real answer is: 7\n",
      "the classifier came back with: 5, the real answer is: 5\n",
      "the classifier came back with: 1, the real answer is: 1\n",
      "the classifier came back with: 6, the real answer is: 6\n",
      "the classifier came back with: 4, the real answer is: 4\n",
      "the classifier came back with: 7, the real answer is: 7\n",
      "the classifier came back with: 5, the real answer is: 5\n",
      "the classifier came back with: 4, the real answer is: 4\n",
      "the classifier came back with: 4, the real answer is: 4\n",
      "the classifier came back with: 7, the real answer is: 7\n",
      "the classifier came back with: 7, the real answer is: 7\n",
      "the classifier came back with: 4, the real answer is: 4\n",
      "the classifier came back with: 3, the real answer is: 3\n",
      "the classifier came back with: 8, the real answer is: 8\n",
      "the classifier came back with: 5, the real answer is: 5\n",
      "the classifier came back with: 2, the real answer is: 2\n",
      "the classifier came back with: 5, the real answer is: 5\n",
      "the classifier came back with: 4, the real answer is: 4\n",
      "the classifier came back with: 9, the real answer is: 9\n",
      "the classifier came back with: 5, the real answer is: 5\n",
      "the classifier came back with: 4, the real answer is: 4\n",
      "the classifier came back with: 8, the real answer is: 8\n",
      "the classifier came back with: 0, the real answer is: 0\n",
      "the classifier came back with: 3, the real answer is: 3\n",
      "the classifier came back with: 7, the real answer is: 7\n",
      "the classifier came back with: 7, the real answer is: 7\n",
      "the classifier came back with: 7, the real answer is: 7\n",
      "the classifier came back with: 9, the real answer is: 9\n",
      "the classifier came back with: 0, the real answer is: 0\n",
      "the classifier came back with: 7, the real answer is: 7\n",
      "the classifier came back with: 6, the real answer is: 6\n",
      "the classifier came back with: 8, the real answer is: 8\n",
      "the classifier came back with: 0, the real answer is: 0\n",
      "the classifier came back with: 6, the real answer is: 6\n",
      "the classifier came back with: 1, the real answer is: 1\n",
      "the classifier came back with: 4, the real answer is: 4\n",
      "the classifier came back with: 6, the real answer is: 5\n",
      "the classifier came back with: 7, the real answer is: 7\n",
      "the classifier came back with: 6, the real answer is: 6\n",
      "the classifier came back with: 4, the real answer is: 4\n",
      "the classifier came back with: 4, the real answer is: 4\n",
      "the classifier came back with: 4, the real answer is: 4\n",
      "the classifier came back with: 4, the real answer is: 4\n",
      "the classifier came back with: 5, the real answer is: 5\n",
      "the classifier came back with: 2, the real answer is: 2\n",
      "the classifier came back with: 4, the real answer is: 4\n",
      "the classifier came back with: 2, the real answer is: 2\n",
      "the classifier came back with: 2, the real answer is: 2\n",
      "the classifier came back with: 1, the real answer is: 1\n",
      "the classifier came back with: 0, the real answer is: 0\n",
      "the classifier came back with: 6, the real answer is: 6\n",
      "the classifier came back with: 7, the real answer is: 7\n",
      "the classifier came back with: 0, the real answer is: 0\n",
      "the classifier came back with: 0, the real answer is: 0\n",
      "the classifier came back with: 9, the real answer is: 9\n",
      "the classifier came back with: 1, the real answer is: 1\n",
      "the classifier came back with: 8, the real answer is: 8\n",
      "the classifier came back with: 8, the real answer is: 8\n",
      "the classifier came back with: 7, the real answer is: 7\n",
      "the classifier came back with: 4, the real answer is: 4\n",
      "the classifier came back with: 4, the real answer is: 4\n",
      "the classifier came back with: 5, the real answer is: 5\n",
      "the classifier came back with: 9, the real answer is: 9\n",
      "the classifier came back with: 2, the real answer is: 2\n",
      "the classifier came back with: 8, the real answer is: 8\n",
      "the classifier came back with: 9, the real answer is: 9\n",
      "the classifier came back with: 9, the real answer is: 9\n",
      "the classifier came back with: 7, the real answer is: 7\n",
      "the classifier came back with: 1, the real answer is: 1\n",
      "the classifier came back with: 2, the real answer is: 2\n",
      "the classifier came back with: 9, the real answer is: 9\n",
      "the classifier came back with: 8, the real answer is: 8\n",
      "the classifier came back with: 9, the real answer is: 9\n",
      "the classifier came back with: 5, the real answer is: 5\n",
      "the classifier came back with: 2, the real answer is: 2\n",
      "the classifier came back with: 3, the real answer is: 3\n",
      "the classifier came back with: 5, the real answer is: 5\n",
      "the classifier came back with: 6, the real answer is: 6\n",
      "the classifier came back with: 7, the real answer is: 7\n",
      "the classifier came back with: 4, the real answer is: 4\n",
      "the classifier came back with: 4, the real answer is: 4\n",
      "the classifier came back with: 3, the real answer is: 3\n",
      "the classifier came back with: 1, the real answer is: 1\n",
      "the classifier came back with: 2, the real answer is: 2\n",
      "the classifier came back with: 7, the real answer is: 7\n",
      "the classifier came back with: 5, the real answer is: 5\n",
      "the classifier came back with: 8, the real answer is: 8\n",
      "the classifier came back with: 8, the real answer is: 8\n",
      "the classifier came back with: 3, the real answer is: 3\n",
      "the classifier came back with: 6, the real answer is: 6\n",
      "the classifier came back with: 5, the real answer is: 5\n",
      "the classifier came back with: 4, the real answer is: 4\n",
      "the classifier came back with: 2, the real answer is: 2\n",
      "the classifier came back with: 0, the real answer is: 0\n",
      "the classifier came back with: 5, the real answer is: 5\n",
      "the classifier came back with: 4, the real answer is: 4\n",
      "the classifier came back with: 5, the real answer is: 5\n",
      "the classifier came back with: 1, the real answer is: 1\n",
      "the classifier came back with: 0, the real answer is: 0\n",
      "the classifier came back with: 2, the real answer is: 2\n",
      "the classifier came back with: 4, the real answer is: 4\n",
      "the classifier came back with: 8, the real answer is: 8\n",
      "the classifier came back with: 5, the real answer is: 5\n",
      "the classifier came back with: 9, the real answer is: 9\n",
      "the classifier came back with: 4, the real answer is: 4\n",
      "the classifier came back with: 6, the real answer is: 6\n",
      "the classifier came back with: 9, the real answer is: 9\n",
      "the classifier came back with: 5, the real answer is: 5\n",
      "the classifier came back with: 2, the real answer is: 2\n",
      "the classifier came back with: 9, the real answer is: 9\n",
      "the classifier came back with: 0, the real answer is: 0\n",
      "the classifier came back with: 7, the real answer is: 7\n",
      "the classifier came back with: 9, the real answer is: 9\n",
      "the classifier came back with: 9, the real answer is: 9\n",
      "the classifier came back with: 5, the real answer is: 5\n",
      "the classifier came back with: 3, the real answer is: 3\n",
      "the classifier came back with: 6, the real answer is: 6\n",
      "the classifier came back with: 3, the real answer is: 3\n",
      "the classifier came back with: 5, the real answer is: 5\n",
      "the classifier came back with: 7, the real answer is: 7\n",
      "the classifier came back with: 6, the real answer is: 6\n",
      "the classifier came back with: 0, the real answer is: 0\n",
      "the classifier came back with: 0, the real answer is: 0\n",
      "the classifier came back with: 3, the real answer is: 3\n",
      "the classifier came back with: 5, the real answer is: 5\n",
      "the classifier came back with: 7, the real answer is: 7\n",
      "the classifier came back with: 7, the real answer is: 7\n",
      "the classifier came back with: 4, the real answer is: 4\n",
      "the classifier came back with: 5, the real answer is: 5\n",
      "the classifier came back with: 7, the real answer is: 7\n",
      "the classifier came back with: 5, the real answer is: 5\n",
      "the classifier came back with: 6, the real answer is: 6\n",
      "the classifier came back with: 4, the real answer is: 4\n",
      "the classifier came back with: 0, the real answer is: 0\n",
      "the classifier came back with: 5, the real answer is: 5\n",
      "the classifier came back with: 8, the real answer is: 8\n",
      "the classifier came back with: 2, the real answer is: 2\n",
      "the classifier came back with: 6, the real answer is: 6\n",
      "the classifier came back with: 0, the real answer is: 0\n",
      "the classifier came back with: 6, the real answer is: 6\n",
      "the classifier came back with: 2, the real answer is: 2\n",
      "the classifier came back with: 1, the real answer is: 1\n",
      "the classifier came back with: 2, the real answer is: 2\n",
      "the classifier came back with: 8, the real answer is: 8\n",
      "the classifier came back with: 9, the real answer is: 9\n",
      "the classifier came back with: 1, the real answer is: 1\n",
      "the classifier came back with: 2, the real answer is: 2\n",
      "the classifier came back with: 0, the real answer is: 0\n",
      "the classifier came back with: 3, the real answer is: 3\n",
      "the classifier came back with: 2, the real answer is: 2\n",
      "the classifier came back with: 4, the real answer is: 4\n",
      "the classifier came back with: 2, the real answer is: 2\n",
      "the classifier came back with: 8, the real answer is: 8\n",
      "the classifier came back with: 0, the real answer is: 0\n",
      "the classifier came back with: 6, the real answer is: 6\n",
      "the classifier came back with: 1, the real answer is: 8\n",
      "the classifier came back with: 7, the real answer is: 7\n",
      "the classifier came back with: 6, the real answer is: 6\n",
      "the classifier came back with: 6, the real answer is: 6\n",
      "the classifier came back with: 0, the real answer is: 0\n",
      "the classifier came back with: 4, the real answer is: 4\n",
      "the classifier came back with: 8, the real answer is: 8\n",
      "the classifier came back with: 1, the real answer is: 1\n",
      "the classifier came back with: 9, the real answer is: 9\n",
      "the classifier came back with: 4, the real answer is: 4\n",
      "the classifier came back with: 8, the real answer is: 8\n",
      "the classifier came back with: 5, the real answer is: 5\n",
      "the classifier came back with: 9, the real answer is: 9\n",
      "the classifier came back with: 1, the real answer is: 1\n",
      "the classifier came back with: 0, the real answer is: 0\n",
      "the classifier came back with: 4, the real answer is: 4\n",
      "the classifier came back with: 4, the real answer is: 4\n",
      "the classifier came back with: 3, the real answer is: 3\n",
      "the classifier came back with: 2, the real answer is: 2\n",
      "the classifier came back with: 3, the real answer is: 3\n",
      "the classifier came back with: 7, the real answer is: 7\n",
      "the classifier came back with: 0, the real answer is: 0\n",
      "the classifier came back with: 9, the real answer is: 9\n",
      "the classifier came back with: 7, the real answer is: 7\n",
      "the classifier came back with: 7, the real answer is: 7\n",
      "the classifier came back with: 3, the real answer is: 3\n",
      "the classifier came back with: 1, the real answer is: 1\n",
      "the classifier came back with: 5, the real answer is: 5\n",
      "the classifier came back with: 9, the real answer is: 9\n",
      "the classifier came back with: 7, the real answer is: 7\n",
      "the classifier came back with: 3, the real answer is: 3\n",
      "the classifier came back with: 3, the real answer is: 3\n",
      "the classifier came back with: 7, the real answer is: 7\n",
      "the classifier came back with: 8, the real answer is: 8\n",
      "the classifier came back with: 4, the real answer is: 4\n",
      "the classifier came back with: 8, the real answer is: 8\n",
      "the classifier came back with: 9, the real answer is: 9\n",
      "the classifier came back with: 5, the real answer is: 5\n",
      "the classifier came back with: 3, the real answer is: 3\n",
      "the classifier came back with: 9, the real answer is: 9\n",
      "the classifier came back with: 8, the real answer is: 8\n",
      "the classifier came back with: 3, the real answer is: 3\n",
      "the classifier came back with: 6, the real answer is: 6\n",
      "the classifier came back with: 3, the real answer is: 3\n",
      "the classifier came back with: 7, the real answer is: 7\n",
      "the classifier came back with: 4, the real answer is: 4\n",
      "the classifier came back with: 5, the real answer is: 5\n",
      "the classifier came back with: 5, the real answer is: 5\n",
      "the classifier came back with: 1, the real answer is: 1\n",
      "the classifier came back with: 0, the real answer is: 0\n",
      "the classifier came back with: 3, the real answer is: 3\n",
      "the classifier came back with: 0, the real answer is: 0\n",
      "the classifier came back with: 4, the real answer is: 4\n",
      "the classifier came back with: 6, the real answer is: 6\n",
      "the classifier came back with: 1, the real answer is: 1\n",
      "the classifier came back with: 2, the real answer is: 2\n",
      "the classifier came back with: 1, the real answer is: 1\n",
      "the classifier came back with: 7, the real answer is: 7\n",
      "the classifier came back with: 4, the real answer is: 4\n",
      "the classifier came back with: 9, the real answer is: 3\n",
      "the classifier came back with: 5, the real answer is: 5\n",
      "the classifier came back with: 2, the real answer is: 2\n",
      "the classifier came back with: 2, the real answer is: 2\n",
      "the classifier came back with: 6, the real answer is: 6\n",
      "the classifier came back with: 1, the real answer is: 1\n",
      "the classifier came back with: 2, the real answer is: 2\n",
      "the classifier came back with: 8, the real answer is: 8\n",
      "the classifier came back with: 4, the real answer is: 4\n",
      "the classifier came back with: 8, the real answer is: 8\n",
      "the classifier came back with: 4, the real answer is: 4\n",
      "the classifier came back with: 7, the real answer is: 7\n",
      "the classifier came back with: 9, the real answer is: 9\n",
      "the classifier came back with: 6, the real answer is: 6\n",
      "the classifier came back with: 3, the real answer is: 8\n",
      "the classifier came back with: 1, the real answer is: 1\n",
      "the classifier came back with: 9, the real answer is: 9\n",
      "the classifier came back with: 4, the real answer is: 4\n",
      "the classifier came back with: 5, the real answer is: 5\n",
      "the classifier came back with: 7, the real answer is: 7\n",
      "the classifier came back with: 3, the real answer is: 3\n",
      "the classifier came back with: 1, the real answer is: 1\n",
      "the classifier came back with: 3, the real answer is: 3\n",
      "the classifier came back with: 8, the real answer is: 8\n",
      "the classifier came back with: 3, the real answer is: 3\n",
      "the classifier came back with: 4, the real answer is: 4\n",
      "the classifier came back with: 9, the real answer is: 9\n",
      "the classifier came back with: 2, the real answer is: 2\n",
      "the classifier came back with: 6, the real answer is: 6\n",
      "the classifier came back with: 5, the real answer is: 5\n",
      "the classifier came back with: 5, the real answer is: 5\n",
      "the classifier came back with: 3, the real answer is: 3\n",
      "the classifier came back with: 8, the real answer is: 8\n",
      "the classifier came back with: 4, the real answer is: 4\n",
      "the classifier came back with: 9, the real answer is: 9\n",
      "the classifier came back with: 3, the real answer is: 3\n",
      "the classifier came back with: 7, the real answer is: 7\n",
      "the classifier came back with: 7, the real answer is: 7\n",
      "the classifier came back with: 1, the real answer is: 1\n",
      "the classifier came back with: 0, the real answer is: 0\n",
      "the classifier came back with: 4, the real answer is: 4\n",
      "the classifier came back with: 3, the real answer is: 3\n",
      "the classifier came back with: 2, the real answer is: 2\n",
      "the classifier came back with: 8, the real answer is: 8\n",
      "the classifier came back with: 3, the real answer is: 3\n",
      "the classifier came back with: 5, the real answer is: 5\n",
      "the classifier came back with: 3, the real answer is: 3\n",
      "the classifier came back with: 4, the real answer is: 4\n",
      "the classifier came back with: 7, the real answer is: 7\n",
      "the classifier came back with: 6, the real answer is: 6\n",
      "the classifier came back with: 1, the real answer is: 1\n",
      "the classifier came back with: 9, the real answer is: 9\n",
      "the classifier came back with: 6, the real answer is: 6\n",
      "the classifier came back with: 9, the real answer is: 9\n",
      "the classifier came back with: 4, the real answer is: 4\n",
      "the classifier came back with: 5, the real answer is: 5\n",
      "the classifier came back with: 5, the real answer is: 5\n",
      "the classifier came back with: 9, the real answer is: 9\n",
      "the classifier came back with: 5, the real answer is: 5\n",
      "the classifier came back with: 5, the real answer is: 5\n",
      "the classifier came back with: 9, the real answer is: 9\n",
      "the classifier came back with: 4, the real answer is: 4\n",
      "the classifier came back with: 7, the real answer is: 7\n",
      "the classifier came back with: 2, the real answer is: 2\n",
      "the classifier came back with: 5, the real answer is: 5\n",
      "the classifier came back with: 4, the real answer is: 4\n",
      "the classifier came back with: 4, the real answer is: 4\n",
      "the classifier came back with: 6, the real answer is: 6\n",
      "the classifier came back with: 8, the real answer is: 8\n",
      "the classifier came back with: 7, the real answer is: 7\n",
      "the classifier came back with: 6, the real answer is: 6\n",
      "the classifier came back with: 7, the real answer is: 1\n",
      "the classifier came back with: 6, the real answer is: 6\n",
      "the classifier came back with: 5, the real answer is: 5\n",
      "the classifier came back with: 4, the real answer is: 4\n",
      "the classifier came back with: 4, the real answer is: 4\n",
      "the classifier came back with: 4, the real answer is: 4\n",
      "the classifier came back with: 5, the real answer is: 5\n",
      "the classifier came back with: 7, the real answer is: 7\n",
      "the classifier came back with: 6, the real answer is: 6\n",
      "the classifier came back with: 3, the real answer is: 3\n",
      "the classifier came back with: 8, the real answer is: 8\n",
      "the classifier came back with: 5, the real answer is: 5\n",
      "the classifier came back with: 4, the real answer is: 4\n",
      "the classifier came back with: 1, the real answer is: 1\n",
      "the classifier came back with: 9, the real answer is: 9\n",
      "the classifier came back with: 4, the real answer is: 4\n",
      "the classifier came back with: 2, the real answer is: 2\n",
      "the classifier came back with: 7, the real answer is: 7\n",
      "the classifier came back with: 8, the real answer is: 8\n",
      "the classifier came back with: 4, the real answer is: 4\n",
      "the classifier came back with: 5, the real answer is: 5\n",
      "the classifier came back with: 2, the real answer is: 2\n",
      "the classifier came back with: 0, the real answer is: 0\n",
      "the classifier came back with: 7, the real answer is: 7\n",
      "the classifier came back with: 2, the real answer is: 2\n",
      "the classifier came back with: 6, the real answer is: 6\n",
      "the classifier came back with: 6, the real answer is: 6\n",
      "the classifier came back with: 4, the real answer is: 4\n",
      "the classifier came back with: 4, the real answer is: 4\n",
      "the classifier came back with: 2, the real answer is: 2\n",
      "the classifier came back with: 2, the real answer is: 2\n",
      "the classifier came back with: 8, the real answer is: 8\n",
      "the classifier came back with: 5, the real answer is: 5\n",
      "the classifier came back with: 5, the real answer is: 5\n",
      "the classifier came back with: 4, the real answer is: 4\n",
      "the classifier came back with: 7, the real answer is: 7\n",
      "the classifier came back with: 1, the real answer is: 1\n",
      "the classifier came back with: 7, the real answer is: 7\n",
      "the classifier came back with: 0, the real answer is: 0\n",
      "the classifier came back with: 9, the real answer is: 9\n",
      "the classifier came back with: 9, the real answer is: 9\n",
      "the classifier came back with: 9, the real answer is: 9\n",
      "the classifier came back with: 1, the real answer is: 1\n",
      "the classifier came back with: 9, the real answer is: 9\n",
      "the classifier came back with: 8, the real answer is: 8\n",
      "the classifier came back with: 8, the real answer is: 8\n",
      "the classifier came back with: 4, the real answer is: 4\n",
      "the classifier came back with: 6, the real answer is: 6\n",
      "the classifier came back with: 7, the real answer is: 7\n",
      "the classifier came back with: 7, the real answer is: 7\n",
      "the classifier came back with: 0, the real answer is: 0\n",
      "the classifier came back with: 5, the real answer is: 5\n",
      "the classifier came back with: 4, the real answer is: 4\n",
      "the classifier came back with: 5, the real answer is: 5\n",
      "the classifier came back with: 2, the real answer is: 2\n",
      "the classifier came back with: 5, the real answer is: 5\n",
      "the classifier came back with: 1, the real answer is: 1\n",
      "the classifier came back with: 6, the real answer is: 6\n",
      "the classifier came back with: 0, the real answer is: 0\n",
      "the classifier came back with: 7, the real answer is: 7\n",
      "the classifier came back with: 3, the real answer is: 3\n",
      "the classifier came back with: 7, the real answer is: 7\n",
      "the classifier came back with: 4, the real answer is: 4\n",
      "the classifier came back with: 1, the real answer is: 1\n",
      "the classifier came back with: 9, the real answer is: 9\n",
      "the classifier came back with: 9, the real answer is: 9\n",
      "the classifier came back with: 5, the real answer is: 5\n",
      "the classifier came back with: 2, the real answer is: 2\n",
      "the classifier came back with: 7, the real answer is: 7\n",
      "the classifier came back with: 1, the real answer is: 1\n",
      "the classifier came back with: 9, the real answer is: 9\n",
      "the classifier came back with: 1, the real answer is: 1\n",
      "the classifier came back with: 0, the real answer is: 0\n",
      "the classifier came back with: 7, the real answer is: 7\n",
      "the classifier came back with: 0, the real answer is: 0\n",
      "the classifier came back with: 4, the real answer is: 4\n",
      "the classifier came back with: 0, the real answer is: 0\n",
      "the classifier came back with: 7, the real answer is: 7\n",
      "the classifier came back with: 8, the real answer is: 8\n",
      "the classifier came back with: 3, the real answer is: 3\n",
      "the classifier came back with: 7, the real answer is: 7\n",
      "the classifier came back with: 0, the real answer is: 0\n",
      "the classifier came back with: 1, the real answer is: 1\n",
      "the classifier came back with: 1, the real answer is: 1\n",
      "the classifier came back with: 0, the real answer is: 0\n",
      "the classifier came back with: 3, the real answer is: 3\n",
      "the classifier came back with: 5, the real answer is: 5\n",
      "the classifier came back with: 7, the real answer is: 9\n",
      "the classifier came back with: 5, the real answer is: 5\n",
      "the classifier came back with: 1, the real answer is: 8\n",
      "the classifier came back with: 2, the real answer is: 2\n",
      "the classifier came back with: 6, the real answer is: 6\n",
      "the classifier came back with: 1, the real answer is: 1\n",
      "the classifier came back with: 5, the real answer is: 5\n",
      "the classifier came back with: 9, the real answer is: 9\n",
      "the classifier came back with: 7, the real answer is: 7\n",
      "the classifier came back with: 2, the real answer is: 2\n",
      "the classifier came back with: 5, the real answer is: 5\n",
      "the classifier came back with: 1, the real answer is: 1\n",
      "the classifier came back with: 4, the real answer is: 4\n",
      "the classifier came back with: 6, the real answer is: 6\n",
      "the classifier came back with: 4, the real answer is: 4\n",
      "the classifier came back with: 2, the real answer is: 2\n",
      "the classifier came back with: 6, the real answer is: 6\n",
      "the classifier came back with: 3, the real answer is: 3\n",
      "the classifier came back with: 4, the real answer is: 4\n",
      "the classifier came back with: 3, the real answer is: 3\n",
      "the classifier came back with: 4, the real answer is: 4\n",
      "the classifier came back with: 5, the real answer is: 5\n",
      "the classifier came back with: 8, the real answer is: 8\n",
      "the classifier came back with: 0, the real answer is: 0\n",
      "the classifier came back with: 4, the real answer is: 4\n",
      "the classifier came back with: 2, the real answer is: 2\n",
      "the classifier came back with: 3, the real answer is: 3\n",
      "the classifier came back with: 2, the real answer is: 2\n",
      "the classifier came back with: 1, the real answer is: 1\n",
      "the classifier came back with: 6, the real answer is: 6\n",
      "the classifier came back with: 4, the real answer is: 4\n",
      "the classifier came back with: 6, the real answer is: 6\n",
      "the classifier came back with: 9, the real answer is: 9\n",
      "the classifier came back with: 4, the real answer is: 4\n",
      "the classifier came back with: 6, the real answer is: 6\n",
      "the classifier came back with: 2, the real answer is: 2\n",
      "the classifier came back with: 2, the real answer is: 2\n",
      "the classifier came back with: 8, the real answer is: 8\n",
      "the classifier came back with: 6, the real answer is: 6\n",
      "the classifier came back with: 3, the real answer is: 3\n",
      "the classifier came back with: 9, the real answer is: 9\n",
      "the classifier came back with: 7, the real answer is: 7\n",
      "the classifier came back with: 9, the real answer is: 9\n",
      "the classifier came back with: 2, the real answer is: 2\n",
      "the classifier came back with: 7, the real answer is: 7\n",
      "the classifier came back with: 0, the real answer is: 0\n",
      "the classifier came back with: 2, the real answer is: 2\n",
      "the classifier came back with: 0, the real answer is: 0\n",
      "the classifier came back with: 4, the real answer is: 4\n",
      "the classifier came back with: 3, the real answer is: 3\n",
      "the classifier came back with: 9, the real answer is: 9\n",
      "the classifier came back with: 4, the real answer is: 4\n",
      "the classifier came back with: 8, the real answer is: 8\n",
      "the classifier came back with: 1, the real answer is: 1\n",
      "the classifier came back with: 4, the real answer is: 4\n",
      "the classifier came back with: 1, the real answer is: 1\n",
      "the classifier came back with: 2, the real answer is: 2\n",
      "the classifier came back with: 9, the real answer is: 9\n",
      "the classifier came back with: 9, the real answer is: 9\n",
      "the classifier came back with: 5, the real answer is: 5\n",
      "the classifier came back with: 1, the real answer is: 1\n",
      "the classifier came back with: 8, the real answer is: 8\n",
      "the classifier came back with: 1, the real answer is: 1\n",
      "the classifier came back with: 4, the real answer is: 4\n",
      "the classifier came back with: 7, the real answer is: 7\n",
      "the classifier came back with: 8, the real answer is: 8\n",
      "the classifier came back with: 2, the real answer is: 2\n",
      "the classifier came back with: 3, the real answer is: 3\n",
      "the classifier came back with: 0, the real answer is: 0\n",
      "the classifier came back with: 4, the real answer is: 4\n",
      "the classifier came back with: 5, the real answer is: 5\n",
      "the classifier came back with: 4, the real answer is: 4\n",
      "the classifier came back with: 1, the real answer is: 1\n",
      "the classifier came back with: 5, the real answer is: 5\n",
      "the classifier came back with: 8, the real answer is: 8\n",
      "the classifier came back with: 0, the real answer is: 0\n",
      "the classifier came back with: 4, the real answer is: 4\n",
      "the classifier came back with: 6, the real answer is: 6\n",
      "the classifier came back with: 0, the real answer is: 0\n",
      "the classifier came back with: 1, the real answer is: 1\n",
      "the classifier came back with: 2, the real answer is: 2\n",
      "the classifier came back with: 1, the real answer is: 1\n",
      "the classifier came back with: 6, the real answer is: 6\n",
      "the classifier came back with: 5, the real answer is: 5\n",
      "the classifier came back with: 6, the real answer is: 6\n",
      "the classifier came back with: 6, the real answer is: 6\n",
      "the classifier came back with: 6, the real answer is: 6\n",
      "the classifier came back with: 4, the real answer is: 4\n",
      "the classifier came back with: 6, the real answer is: 6\n",
      "the classifier came back with: 6, the real answer is: 6\n",
      "the classifier came back with: 6, the real answer is: 6\n",
      "the classifier came back with: 5, the real answer is: 5\n",
      "the classifier came back with: 3, the real answer is: 3\n",
      "the classifier came back with: 8, the real answer is: 8\n",
      "the classifier came back with: 8, the real answer is: 8\n",
      "the classifier came back with: 4, the real answer is: 4\n",
      "the classifier came back with: 0, the real answer is: 0\n",
      "the classifier came back with: 0, the real answer is: 0\n",
      "the classifier came back with: 2, the real answer is: 2\n",
      "the classifier came back with: 3, the real answer is: 3\n",
      "the classifier came back with: 2, the real answer is: 2\n",
      "the classifier came back with: 8, the real answer is: 8\n",
      "the classifier came back with: 0, the real answer is: 0\n",
      "the classifier came back with: 2, the real answer is: 2\n",
      "the classifier came back with: 2, the real answer is: 2\n",
      "the classifier came back with: 0, the real answer is: 0\n",
      "the classifier came back with: 8, the real answer is: 8\n",
      "the classifier came back with: 8, the real answer is: 8\n",
      "the classifier came back with: 5, the real answer is: 5\n",
      "the classifier came back with: 8, the real answer is: 8\n",
      "the classifier came back with: 0, the real answer is: 0\n",
      "the classifier came back with: 7, the real answer is: 7\n",
      "the classifier came back with: 3, the real answer is: 3\n",
      "the classifier came back with: 0, the real answer is: 0\n",
      "the classifier came back with: 0, the real answer is: 0\n",
      "the classifier came back with: 1, the real answer is: 1\n",
      "the classifier came back with: 1, the real answer is: 1\n",
      "the classifier came back with: 1, the real answer is: 1\n",
      "the classifier came back with: 7, the real answer is: 7\n",
      "the classifier came back with: 7, the real answer is: 7\n",
      "the classifier came back with: 5, the real answer is: 5\n",
      "the classifier came back with: 2, the real answer is: 2\n",
      "the classifier came back with: 5, the real answer is: 5\n",
      "the classifier came back with: 3, the real answer is: 3\n",
      "the classifier came back with: 1, the real answer is: 1\n",
      "the classifier came back with: 1, the real answer is: 1\n",
      "the classifier came back with: 6, the real answer is: 6\n",
      "the classifier came back with: 3, the real answer is: 3\n",
      "the classifier came back with: 3, the real answer is: 3\n",
      "the classifier came back with: 1, the real answer is: 1\n",
      "the classifier came back with: 1, the real answer is: 1\n",
      "the classifier came back with: 8, the real answer is: 8\n",
      "the classifier came back with: 7, the real answer is: 7\n",
      "the classifier came back with: 3, the real answer is: 3\n",
      "the classifier came back with: 5, the real answer is: 5\n",
      "the classifier came back with: 0, the real answer is: 0\n",
      "the classifier came back with: 5, the real answer is: 5\n",
      "the classifier came back with: 5, the real answer is: 5\n",
      "the classifier came back with: 3, the real answer is: 3\n",
      "the classifier came back with: 8, the real answer is: 8\n",
      "the classifier came back with: 8, the real answer is: 8\n",
      "the classifier came back with: 5, the real answer is: 5\n",
      "the classifier came back with: 9, the real answer is: 9\n",
      "the classifier came back with: 8, the real answer is: 8\n",
      "the classifier came back with: 8, the real answer is: 8\n",
      "the classifier came back with: 3, the real answer is: 3\n",
      "the classifier came back with: 5, the real answer is: 5\n",
      "the classifier came back with: 6, the real answer is: 6\n",
      "the classifier came back with: 8, the real answer is: 8\n",
      "the classifier came back with: 6, the real answer is: 6\n",
      "the classifier came back with: 5, the real answer is: 5\n",
      "the classifier came back with: 9, the real answer is: 9\n",
      "the classifier came back with: 6, the real answer is: 6\n",
      "the classifier came back with: 4, the real answer is: 4\n",
      "the classifier came back with: 5, the real answer is: 5\n",
      "the classifier came back with: 8, the real answer is: 8\n",
      "the classifier came back with: 9, the real answer is: 9\n",
      "the classifier came back with: 4, the real answer is: 4\n",
      "the classifier came back with: 2, the real answer is: 2\n",
      "the classifier came back with: 3, the real answer is: 3\n",
      "the classifier came back with: 0, the real answer is: 0\n",
      "the classifier came back with: 5, the real answer is: 5\n",
      "the classifier came back with: 6, the real answer is: 6\n",
      "the classifier came back with: 5, the real answer is: 5\n",
      "the classifier came back with: 1, the real answer is: 1\n",
      "the classifier came back with: 4, the real answer is: 4\n",
      "the classifier came back with: 5, the real answer is: 5\n",
      "the classifier came back with: 1, the real answer is: 1\n",
      "the classifier came back with: 0, the real answer is: 0\n",
      "the classifier came back with: 5, the real answer is: 5\n",
      "the classifier came back with: 6, the real answer is: 6\n",
      "the classifier came back with: 1, the real answer is: 1\n",
      "the classifier came back with: 2, the real answer is: 2\n",
      "the classifier came back with: 1, the real answer is: 1\n",
      "the classifier came back with: 7, the real answer is: 7\n",
      "the classifier came back with: 2, the real answer is: 2\n",
      "the classifier came back with: 0, the real answer is: 0\n",
      "the classifier came back with: 2, the real answer is: 2\n",
      "the classifier came back with: 3, the real answer is: 3\n",
      "the classifier came back with: 9, the real answer is: 9\n",
      "the classifier came back with: 4, the real answer is: 4\n",
      "the classifier came back with: 0, the real answer is: 0\n",
      "the classifier came back with: 3, the real answer is: 3\n",
      "the classifier came back with: 0, the real answer is: 0\n",
      "the classifier came back with: 7, the real answer is: 7\n",
      "the classifier came back with: 7, the real answer is: 7\n",
      "the classifier came back with: 4, the real answer is: 4\n",
      "the classifier came back with: 3, the real answer is: 3\n",
      "the classifier came back with: 9, the real answer is: 9\n",
      "the classifier came back with: 4, the real answer is: 4\n",
      "the classifier came back with: 8, the real answer is: 8\n",
      "the classifier came back with: 8, the real answer is: 8\n",
      "the classifier came back with: 4, the real answer is: 4\n",
      "the classifier came back with: 3, the real answer is: 3\n",
      "the classifier came back with: 5, the real answer is: 5\n",
      "the classifier came back with: 6, the real answer is: 6\n",
      "the classifier came back with: 5, the real answer is: 5\n",
      "the classifier came back with: 0, the real answer is: 0\n",
      "the classifier came back with: 1, the real answer is: 1\n",
      "the classifier came back with: 9, the real answer is: 9\n",
      "the classifier came back with: 4, the real answer is: 4\n",
      "the classifier came back with: 3, the real answer is: 3\n",
      "the classifier came back with: 5, the real answer is: 5\n",
      "the classifier came back with: 3, the real answer is: 3\n",
      "the classifier came back with: 7, the real answer is: 7\n",
      "the classifier came back with: 1, the real answer is: 1\n",
      "the classifier came back with: 8, the real answer is: 8\n",
      "the classifier came back with: 6, the real answer is: 6\n",
      "the classifier came back with: 1, the real answer is: 1\n",
      "the classifier came back with: 1, the real answer is: 1\n",
      "the classifier came back with: 9, the real answer is: 9\n",
      "the classifier came back with: 0, the real answer is: 0\n",
      "the classifier came back with: 9, the real answer is: 9\n",
      "the classifier came back with: 9, the real answer is: 9\n",
      "the classifier came back with: 9, the real answer is: 9\n",
      "the classifier came back with: 9, the real answer is: 9\n",
      "the classifier came back with: 4, the real answer is: 4\n",
      "the classifier came back with: 1, the real answer is: 1\n",
      "the classifier came back with: 1, the real answer is: 1\n",
      "the classifier came back with: 0, the real answer is: 0\n",
      "the classifier came back with: 7, the real answer is: 7\n",
      "the classifier came back with: 8, the real answer is: 8\n",
      "the classifier came back with: 9, the real answer is: 9\n",
      "the classifier came back with: 8, the real answer is: 8\n",
      "the classifier came back with: 0, the real answer is: 0\n",
      "the classifier came back with: 8, the real answer is: 8\n",
      "the classifier came back with: 2, the real answer is: 2\n",
      "the classifier came back with: 5, the real answer is: 5\n",
      "the classifier came back with: 5, the real answer is: 5\n",
      "the classifier came back with: 4, the real answer is: 4\n",
      "the classifier came back with: 0, the real answer is: 0\n",
      "the classifier came back with: 1, the real answer is: 1\n",
      "the classifier came back with: 2, the real answer is: 2\n",
      "the classifier came back with: 1, the real answer is: 1\n",
      "the classifier came back with: 7, the real answer is: 7\n",
      "the classifier came back with: 1, the real answer is: 1\n",
      "the classifier came back with: 0, the real answer is: 0\n",
      "the classifier came back with: 7, the real answer is: 7\n",
      "the classifier came back with: 4, the real answer is: 4\n",
      "the classifier came back with: 6, the real answer is: 6\n",
      "the classifier came back with: 8, the real answer is: 8\n",
      "the classifier came back with: 0, the real answer is: 0\n",
      "the classifier came back with: 5, the real answer is: 5\n",
      "the classifier came back with: 7, the real answer is: 7\n",
      "the classifier came back with: 2, the real answer is: 2\n",
      "the classifier came back with: 6, the real answer is: 6\n",
      "the classifier came back with: 6, the real answer is: 6\n",
      "the classifier came back with: 9, the real answer is: 9\n",
      "the classifier came back with: 6, the real answer is: 6\n",
      "the classifier came back with: 2, the real answer is: 2\n",
      "the classifier came back with: 3, the real answer is: 3\n",
      "the classifier came back with: 1, the real answer is: 1\n",
      "the classifier came back with: 7, the real answer is: 7\n",
      "the classifier came back with: 5, the real answer is: 5\n",
      "the classifier came back with: 7, the real answer is: 7\n",
      "the classifier came back with: 2, the real answer is: 2\n",
      "the classifier came back with: 0, the real answer is: 0\n",
      "the classifier came back with: 2, the real answer is: 2\n",
      "the classifier came back with: 7, the real answer is: 7\n",
      "the classifier came back with: 6, the real answer is: 6\n",
      "the classifier came back with: 0, the real answer is: 0\n",
      "the classifier came back with: 8, the real answer is: 8\n",
      "the classifier came back with: 3, the real answer is: 3\n",
      "the classifier came back with: 0, the real answer is: 0\n",
      "the classifier came back with: 3, the real answer is: 3\n",
      "the classifier came back with: 4, the real answer is: 4\n",
      "the classifier came back with: 4, the real answer is: 4\n",
      "the classifier came back with: 1, the real answer is: 1\n",
      "the classifier came back with: 6, the real answer is: 6\n",
      "the classifier came back with: 4, the real answer is: 4\n",
      "the classifier came back with: 2, the real answer is: 2\n",
      "the classifier came back with: 7, the real answer is: 7\n",
      "the classifier came back with: 3, the real answer is: 3\n",
      "the classifier came back with: 7, the real answer is: 7\n",
      "the classifier came back with: 4, the real answer is: 4\n",
      "the classifier came back with: 6, the real answer is: 6\n",
      "the classifier came back with: 8, the real answer is: 8\n",
      "the classifier came back with: 8, the real answer is: 8\n",
      "the classifier came back with: 7, the real answer is: 7\n",
      "the classifier came back with: 5, the real answer is: 5\n",
      "the classifier came back with: 9, the real answer is: 9\n",
      "the classifier came back with: 1, the real answer is: 1\n",
      "the classifier came back with: 5, the real answer is: 5\n",
      "the classifier came back with: 1, the real answer is: 1\n",
      "the classifier came back with: 1, the real answer is: 1\n",
      "the classifier came back with: 0, the real answer is: 0\n",
      "the classifier came back with: 1, the real answer is: 1\n",
      "the classifier came back with: 9, the real answer is: 9\n",
      "the classifier came back with: 8, the real answer is: 8\n",
      "the classifier came back with: 4, the real answer is: 4\n",
      "the classifier came back with: 9, the real answer is: 9\n",
      "the classifier came back with: 9, the real answer is: 9\n",
      "the classifier came back with: 7, the real answer is: 7\n",
      "the classifier came back with: 0, the real answer is: 0\n",
      "the classifier came back with: 4, the real answer is: 4\n",
      "the classifier came back with: 6, the real answer is: 6\n",
      "the classifier came back with: 6, the real answer is: 6\n",
      "the classifier came back with: 1, the real answer is: 1\n",
      "the classifier came back with: 6, the real answer is: 6\n",
      "the classifier came back with: 0, the real answer is: 0\n",
      "the classifier came back with: 0, the real answer is: 0\n",
      "the classifier came back with: 4, the real answer is: 4\n",
      "the classifier came back with: 9, the real answer is: 9\n",
      "the classifier came back with: 7, the real answer is: 7\n",
      "the classifier came back with: 1, the real answer is: 1\n",
      "the classifier came back with: 2, the real answer is: 2\n",
      "the classifier came back with: 2, the real answer is: 2\n",
      "the classifier came back with: 1, the real answer is: 1\n",
      "the classifier came back with: 1, the real answer is: 1\n",
      "the classifier came back with: 7, the real answer is: 7\n",
      "the classifier came back with: 2, the real answer is: 2\n",
      "the classifier came back with: 2, the real answer is: 2\n",
      "the classifier came back with: 1, the real answer is: 1\n",
      "\n",
      "the total number of errors is: 12\n",
      "\n",
      "the total error rate is: 0.012685\n"
     ]
    }
   ],
   "source": [
    "handwritingClassTest()"
   ]
  },
  {
   "cell_type": "markdown",
   "metadata": {
    "collapsed": true
   },
   "source": [
    "kNN이 생각보다 연산량이 많이 든다.\n",
    "kNN을 변경한 알고리즘 중 'kD-Tree'라는 것이 계산 횟수를 줄일 수 있다.\n",
    "https://en.wikipedia.org/wiki/K-d_tree\n",
    ">> 좀더 찾아보는 걸로....\n",
    "\n",
    "kNN을 사례기반 학습(instance-based learning)의 한 예이다.\n",
    "이 알고리즘은 data 집합 전체를 다루기 때문에 큰 data 집합을 처리하기 위해서 큰 저장소가 필요하다.\n",
    "또한 모든 data에 대해서 거리 측정을 해야 하기 때문에 연산량 또한 문제가 될 수 있다.\n",
    "\n",
    "마지막으로 데이터에 대해서 어떠한 정보도 주지 않기 때문에 평균이나 모범적인 사례가 어떤 것인지 알 수 없다."
   ]
  },
  {
   "cell_type": "code",
   "execution_count": null,
   "metadata": {
    "collapsed": true
   },
   "outputs": [],
   "source": []
  }
 ],
 "metadata": {
  "kernelspec": {
   "display_name": "Python 3",
   "language": "python",
   "name": "python3"
  },
  "language_info": {
   "codemirror_mode": {
    "name": "ipython",
    "version": 3
   },
   "file_extension": ".py",
   "mimetype": "text/x-python",
   "name": "python",
   "nbconvert_exporter": "python",
   "pygments_lexer": "ipython3",
   "version": "3.4.3"
  }
 },
 "nbformat": 4,
 "nbformat_minor": 0
}
