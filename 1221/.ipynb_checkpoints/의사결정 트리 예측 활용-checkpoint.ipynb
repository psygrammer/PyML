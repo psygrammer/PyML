{
 "cells": [
  {
   "cell_type": "markdown",
   "metadata": {},
   "source": [
    "예제: 콘택트랜즈 유형 예측\n",
    "1. 수집: 제공된 텍스트\n",
    "2. 준비: 탭으로 구분된 데이터 구문 분석\n",
    "3. 분석: 구문 분석에 의해 잘 만들어진 데이터를 빠르게 눈으로 살피고 createPlot()으로 가지\n",
    "4. 훈련: 3.1절에서 설명한 createTree()를 사용\n",
    "5. 검사: 주어진 사례를 가지고 트리에 적용해 보기 위한 함수 적용\n",
    "        6. 사용: 트리를 구축x, 다시 호출 가능 할 수 있게 만듬"
   ]
  },
  {
   "cell_type": "code",
   "execution_count": 15,
   "metadata": {
    "collapsed": false
   },
   "outputs": [
    {
     "data": {
      "text/plain": [
       "'C:\\\\Anaconda2\\\\Scripts\\\\Python\\\\Ch03'"
      ]
     },
     "execution_count": 15,
     "metadata": {},
     "output_type": "execute_result"
    }
   ],
   "source": [
    "import os\n",
    "import trees\n",
    "import treePlotter\n",
    "os.getcwd()"
   ]
  },
  {
   "cell_type": "code",
   "execution_count": 12,
   "metadata": {
    "collapsed": false
   },
   "outputs": [],
   "source": [
    "fr = open('lenses.txt')\n",
    "lenses = [inst.strip().split('\\t') for inst in fr.readlines()]\n",
    "lensesLabels = ['age', 'prescrip', 'astigmatic', 'tearRate']\n",
    "lensesTree = trees.createTree(lenses, lensesLabels)"
   ]
  },
  {
   "cell_type": "code",
   "execution_count": 17,
   "metadata": {
    "collapsed": false
   },
   "outputs": [],
   "source": [
    "treePlotter.createPlot(lensesTree)"
   ]
  }
 ],
 "metadata": {
  "kernelspec": {
   "display_name": "Python 2",
   "language": "python",
   "name": "python2"
  },
  "language_info": {
   "codemirror_mode": {
    "name": "ipython",
    "version": 2
   },
   "file_extension": ".py",
   "mimetype": "text/x-python",
   "name": "python",
   "nbconvert_exporter": "python",
   "pygments_lexer": "ipython2",
   "version": "2.7.11"
  }
 },
 "nbformat": 4,
 "nbformat_minor": 0
}
