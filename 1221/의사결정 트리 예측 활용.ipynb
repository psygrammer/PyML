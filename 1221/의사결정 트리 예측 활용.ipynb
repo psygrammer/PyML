{
 "cells": [
  {
   "cell_type": "markdown",
   "metadata": {},
   "source": [
    "예제: 콘택트랜즈 유형 예측\n",
    "1. 수집: 제공된 텍스트\n",
    "2. 준비: 탭으로 구분된 데이터 구문 분석\n",
    "3. 분석: 구문 분석에 의해 잘 만들어진 데이터를 빠르게 눈으로 살피고 createPlot()으로 가지\n",
    "4. 훈련: 3.1절에서 설명한 createTree()를 사용\n",
    "5. 검사: 주어진 사례를 가지고 트리에 적용해 보기 위한 함수 적용\n",
    "        6. 사용: 트리를 구축x, 다시 호출 가능 할 수 있게 만듬"
   ]
  },
  {
   "cell_type": "code",
   "execution_count": 1,
   "metadata": {
    "collapsed": false
   },
   "outputs": [
    {
     "data": {
      "text/plain": [
       "'C:\\\\Users\\\\user\\\\Desktop\\\\Ch03'"
      ]
     },
     "execution_count": 1,
     "metadata": {},
     "output_type": "execute_result"
    }
   ],
   "source": [
    "import os\n",
    "import trees\n",
    "import treePlotter\n",
    "os.getcwd()"
   ]
  },
  {
   "cell_type": "code",
   "execution_count": 2,
   "metadata": {
    "collapsed": false
   },
   "outputs": [],
   "source": [
    "fr = open('lenses.txt')\n",
    "lenses = [inst.strip().split('\\t') for inst in fr.readlines()]\n",
    "lensesLabels = ['age', 'prescrip', 'astigmatic', 'tearRate']\n",
    "lensesTree = trees.createTree(lenses, lensesLabels)"
   ]
  },
  {
   "cell_type": "code",
   "execution_count": 3,
   "metadata": {
    "collapsed": false
   },
   "outputs": [
    {
     "data": {
      "text/plain": [
       "{'tearRate': {'normal': {'astigmatic': {'no': {'age': {'pre': 'soft',\n",
       "      'presbyopic': {'prescrip': {'hyper': 'soft', 'myope': 'no lenses'}},\n",
       "      'young': 'soft'}},\n",
       "    'yes': {'prescrip': {'hyper': {'age': {'pre': 'no lenses',\n",
       "        'presbyopic': 'no lenses',\n",
       "        'young': 'hard'}},\n",
       "      'myope': 'hard'}}}},\n",
       "  'reduced': 'no lenses'}}"
      ]
     },
     "execution_count": 3,
     "metadata": {},
     "output_type": "execute_result"
    }
   ],
   "source": [
    "lensesTree"
   ]
  },
  {
   "cell_type": "code",
   "execution_count": 4,
   "metadata": {
    "collapsed": false
   },
   "outputs": [
    {
     "name": "stderr",
     "output_type": "stream",
     "text": [
      "C:\\Anaconda2\\lib\\site-packages\\matplotlib\\patches.py:3144: RuntimeWarning: invalid value encountered in double_scalars\n",
      "  ddx = pad_projected * dx / cp_distance\n",
      "C:\\Anaconda2\\lib\\site-packages\\matplotlib\\patches.py:3145: RuntimeWarning: invalid value encountered in double_scalars\n",
      "  ddy = pad_projected * dy / cp_distance\n",
      "C:\\Anaconda2\\lib\\site-packages\\matplotlib\\patches.py:3148: RuntimeWarning: invalid value encountered in double_scalars\n",
      "  dx = dx / cp_distance * head_dist\n",
      "C:\\Anaconda2\\lib\\site-packages\\matplotlib\\patches.py:3149: RuntimeWarning: invalid value encountered in double_scalars\n",
      "  dy = dy / cp_distance * head_dist\n"
     ]
    }
   ],
   "source": [
    "treePlotter.createPlot(lensesTree)"
   ]
  }
 ],
 "metadata": {
  "kernelspec": {
   "display_name": "Python 2",
   "language": "python",
   "name": "python2"
  },
  "language_info": {
   "codemirror_mode": {
    "name": "ipython",
    "version": 2
   },
   "file_extension": ".py",
   "mimetype": "text/x-python",
   "name": "python",
   "nbconvert_exporter": "python",
   "pygments_lexer": "ipython2",
   "version": "2.7.10"
  }
 },
 "nbformat": 4,
 "nbformat_minor": 0
}
